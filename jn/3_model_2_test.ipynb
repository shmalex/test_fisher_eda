{
 "cells": [
  {
   "cell_type": "code",
   "execution_count": null,
   "metadata": {},
   "outputs": [],
   "source": []
  },
  {
   "cell_type": "code",
   "execution_count": 145,
   "metadata": {
    "ExecuteTime": {
     "end_time": "2023-04-11T00:53:35.729806Z",
     "start_time": "2023-04-11T00:53:35.719553Z"
    }
   },
   "outputs": [],
   "source": [
    "import glob\n",
    "import pandas as pd\n",
    "pd.options.display.max_rows = 10\n",
    "pd.options.display.float_format = '{:,.2f}'.format\n",
    "import numpy as np\n",
    "import tqdm\n",
    "import os\n",
    "import plotly.graph_objs as go\n",
    "from sklearn.preprocessing import MinMaxScaler, StandardScaler\n",
    "\n",
    "from matplotlib import pyplot as plt\n",
    "\n",
    "import torch\n",
    "import torch.nn as nn\n",
    "import torch.utils.data as data\n",
    "import torch.optim as optim\n",
    "from sklearn.metrics import accuracy_score, classification_report, confusion_matrix\n",
    "import seaborn as sns\n"
   ]
  },
  {
   "cell_type": "code",
   "execution_count": 146,
   "metadata": {
    "ExecuteTime": {
     "end_time": "2023-04-11T00:53:35.972871Z",
     "start_time": "2023-04-11T00:53:35.967843Z"
    }
   },
   "outputs": [],
   "source": [
    "import torch\n",
    "from torch import nn\n",
    "from torch.utils.data import DataLoader, Dataset"
   ]
  },
  {
   "cell_type": "code",
   "execution_count": 147,
   "metadata": {
    "ExecuteTime": {
     "end_time": "2023-04-11T00:53:36.451845Z",
     "start_time": "2023-04-11T00:53:36.439882Z"
    }
   },
   "outputs": [],
   "source": [
    "# df = pd.read_csv('../data/nq5years2h.csv')\n",
    "dfext = pd.read_csv( '../data/nq_ext.csv', skiprows=2, names=['price', 'target'] )"
   ]
  },
  {
   "cell_type": "code",
   "execution_count": 148,
   "metadata": {
    "ExecuteTime": {
     "end_time": "2023-04-11T00:53:36.903640Z",
     "start_time": "2023-04-11T00:53:36.897848Z"
    }
   },
   "outputs": [],
   "source": [
    "llstm = nn.LSTM(input_size, hidden_size, num_layers, batch_first=True)\n"
   ]
  },
  {
   "cell_type": "code",
   "execution_count": 155,
   "metadata": {
    "ExecuteTime": {
     "end_time": "2023-04-11T00:54:03.734956Z",
     "start_time": "2023-04-11T00:54:03.710966Z"
    }
   },
   "outputs": [],
   "source": [
    "class TimeSeriesDataset(Dataset):\n",
    "    def __init__(self, data, max_labels, seq_len=15):\n",
    "        self.data = data\n",
    "        self.seq_len = seq_len\n",
    "        self.max_labels = max_labels\n",
    "        \n",
    "    def __getitem__(self, idx):\n",
    "        x = self.data[idx:idx+self.seq_len]\n",
    "        y = self.max_labels[idx+self.seq_len-1]\n",
    "#         print(x)\n",
    "        scaler = MinMaxScaler()\n",
    "        x = scaler.fit_transform(x.reshape((-1,1))).reshape((-1,))\n",
    "#         print('ADASDASDASD')\n",
    "#         print(x)\n",
    "#         print(y)\n",
    "#         raise 'asd'\n",
    "        return x, y\n",
    "    \n",
    "    def __len__(self):\n",
    "        return len(self.data) - self.seq_len\n",
    "\n",
    "class LSTM(nn.Module):\n",
    "    def __init__(self, input_size=1, hidden_size=64, num_layers=1):\n",
    "        super().__init__()\n",
    "        self.num_layers = num_layers\n",
    "        self.hidden_size = hidden_size\n",
    "        self.lstm = nn.LSTM(input_size, hidden_size, num_layers, batch_first=True)\n",
    "        self.fc = nn.Linear(hidden_size, 1)\n",
    "        \n",
    "    def forward(self, x):\n",
    "        h0 = torch.zeros(self.num_layers, x.size(0), self.hidden_size)\n",
    "        c0 = torch.zeros(self.num_layers, x.size(0), self.hidden_size)\n",
    "        out, _ = self.lstm(x, (h0, c0))\n",
    "        out = self.fc(out[:, -1, :])\n",
    "        return out.squeeze()\n"
   ]
  },
  {
   "cell_type": "code",
   "execution_count": 156,
   "metadata": {
    "ExecuteTime": {
     "end_time": "2023-04-11T00:54:04.391523Z",
     "start_time": "2023-04-11T00:54:04.385977Z"
    }
   },
   "outputs": [],
   "source": [
    "# Load data\n",
    "data = dfext.price.values.astype('float32') # Your time series data as a numpy array or torch tensor\n",
    "max_labels = dfext.target.values.astype('float32') # Your labels for local maximum points as a numpy array or torch tensor"
   ]
  },
  {
   "cell_type": "code",
   "execution_count": 157,
   "metadata": {
    "ExecuteTime": {
     "end_time": "2023-04-11T00:54:04.681577Z",
     "start_time": "2023-04-11T00:54:04.672461Z"
    }
   },
   "outputs": [],
   "source": [
    "# Create train and test datasets\n",
    "train_data = TimeSeriesDataset(data[:6000], max_labels[:6000])\n",
    "test_data = TimeSeriesDataset(data[6000:], max_labels[6000:])\n",
    "\n",
    "# Create dataloaders\n",
    "batch_size = 64\n",
    "train_loader = DataLoader(train_data, batch_size=batch_size, shuffle=True)\n",
    "test_loader = DataLoader(test_data, batch_size=batch_size)"
   ]
  },
  {
   "cell_type": "code",
   "execution_count": 158,
   "metadata": {
    "ExecuteTime": {
     "end_time": "2023-04-11T00:54:05.072351Z",
     "start_time": "2023-04-11T00:54:05.065148Z"
    }
   },
   "outputs": [
    {
     "name": "stdout",
     "output_type": "stream",
     "text": [
      "LSTM(\n",
      "  (lstm): LSTM(1, 64, batch_first=True)\n",
      "  (fc): Linear(in_features=64, out_features=1, bias=True)\n",
      ")\n"
     ]
    }
   ],
   "source": [
    "# Initialize model\n",
    "input_size = 1 # NASDAQ 100 index is a univariate time series\n",
    "hidden_size = 64 # Number of hidden units in LSTM\n",
    "num_layers = 1 # Number of LSTM layers\n",
    "lstm = LSTM(input_size, hidden_size, num_layers)\n",
    "\n",
    "print(lstm)"
   ]
  },
  {
   "cell_type": "markdown",
   "metadata": {
    "ExecuteTime": {
     "end_time": "2023-04-10T21:35:47.508784Z",
     "start_time": "2023-04-10T21:35:47.498021Z"
    }
   },
   "source": [
    "for batch_idx, (x_batch, y_batch) in enumerate(train_loader):\n",
    "    print(batch_idx)\n",
    "    print(x_batch.tolist())\n",
    "    print(y_batch.tolist())\n",
    "    break"
   ]
  },
  {
   "cell_type": "code",
   "execution_count": 159,
   "metadata": {
    "ExecuteTime": {
     "end_time": "2023-04-11T00:56:30.264436Z",
     "start_time": "2023-04-11T00:54:06.139232Z"
    },
    "scrolled": false
   },
   "outputs": [
    {
     "name": "stdout",
     "output_type": "stream",
     "text": [
      "Epoch 1/50: Train Loss=0.1367, Test Loss=0.1476\n",
      "Epoch 2/50: Train Loss=0.0414, Test Loss=0.1476\n",
      "Epoch 3/50: Train Loss=0.2406, Test Loss=0.1468\n",
      "Epoch 4/50: Train Loss=0.2314, Test Loss=0.1462\n",
      "Epoch 5/50: Train Loss=0.4008, Test Loss=0.1480\n",
      "Epoch 6/50: Train Loss=0.3418, Test Loss=0.1446\n",
      "Epoch 7/50: Train Loss=0.1337, Test Loss=0.1428\n",
      "Epoch 8/50: Train Loss=0.1258, Test Loss=0.1399\n",
      "Epoch 9/50: Train Loss=0.1991, Test Loss=0.1365\n",
      "Epoch 10/50: Train Loss=0.0296, Test Loss=0.1348\n",
      "Epoch 11/50: Train Loss=0.1210, Test Loss=0.1299\n",
      "Epoch 12/50: Train Loss=0.1344, Test Loss=0.1294\n",
      "Epoch 13/50: Train Loss=0.0418, Test Loss=0.1293\n",
      "Epoch 14/50: Train Loss=0.1237, Test Loss=0.1308\n",
      "Epoch 15/50: Train Loss=0.1132, Test Loss=0.1278\n",
      "Epoch 16/50: Train Loss=0.0276, Test Loss=0.1296\n",
      "Epoch 17/50: Train Loss=0.1964, Test Loss=0.1278\n",
      "Epoch 18/50: Train Loss=0.0392, Test Loss=0.1289\n",
      "Epoch 19/50: Train Loss=0.0536, Test Loss=0.1277\n",
      "Epoch 20/50: Train Loss=0.2291, Test Loss=0.1293\n",
      "Epoch 21/50: Train Loss=0.2947, Test Loss=0.1290\n",
      "Epoch 22/50: Train Loss=0.1990, Test Loss=0.1278\n",
      "Epoch 23/50: Train Loss=0.0557, Test Loss=0.1288\n",
      "Epoch 24/50: Train Loss=0.1044, Test Loss=0.1285\n",
      "Epoch 25/50: Train Loss=0.0357, Test Loss=0.1287\n",
      "Epoch 26/50: Train Loss=0.1376, Test Loss=0.1272\n",
      "Epoch 27/50: Train Loss=0.1797, Test Loss=0.1292\n",
      "Epoch 28/50: Train Loss=0.1157, Test Loss=0.1282\n",
      "Epoch 29/50: Train Loss=0.3377, Test Loss=0.1291\n",
      "Epoch 30/50: Train Loss=0.1629, Test Loss=0.1283\n",
      "Epoch 31/50: Train Loss=0.3243, Test Loss=0.1280\n",
      "Epoch 32/50: Train Loss=0.1915, Test Loss=0.1293\n",
      "Epoch 33/50: Train Loss=0.1045, Test Loss=0.1287\n",
      "Epoch 34/50: Train Loss=0.3507, Test Loss=0.1279\n",
      "Epoch 35/50: Train Loss=0.2112, Test Loss=0.1286\n",
      "Epoch 36/50: Train Loss=0.0444, Test Loss=0.1273\n",
      "Epoch 37/50: Train Loss=0.3055, Test Loss=0.1293\n",
      "Epoch 38/50: Train Loss=0.2073, Test Loss=0.1280\n",
      "Epoch 39/50: Train Loss=0.1203, Test Loss=0.1274\n",
      "Epoch 40/50: Train Loss=0.1037, Test Loss=0.1291\n",
      "Epoch 41/50: Train Loss=0.0402, Test Loss=0.1263\n",
      "Epoch 42/50: Train Loss=0.1070, Test Loss=0.1266\n",
      "Epoch 43/50: Train Loss=0.2604, Test Loss=0.1269\n",
      "Epoch 44/50: Train Loss=0.1755, Test Loss=0.1304\n",
      "Epoch 45/50: Train Loss=0.1878, Test Loss=0.1266\n",
      "Epoch 46/50: Train Loss=0.1375, Test Loss=0.1265\n",
      "Epoch 47/50: Train Loss=0.4522, Test Loss=0.1297\n",
      "Epoch 48/50: Train Loss=0.0371, Test Loss=0.1276\n",
      "Epoch 49/50: Train Loss=0.1838, Test Loss=0.1264\n",
      "Epoch 50/50: Train Loss=0.1961, Test Loss=0.1277\n"
     ]
    }
   ],
   "source": [
    "# Set training parameters\n",
    "learning_rate = 0.001\n",
    "num_epochs = 50\n",
    "criterion = nn.BCEWithLogitsLoss() # Binary cross-entropy loss with logits\n",
    "optimizer = torch.optim.Adam(lstm.parameters(), lr=learning_rate)\n",
    "\n",
    "# Train model\n",
    "for epoch in range(num_epochs):\n",
    "    lstm.train()\n",
    "    for batch_idx, (x_batch, y_batch) in enumerate(train_loader):\n",
    "        x_batch = x_batch.unsqueeze(-1) # Add input_size dimension\n",
    "#         print(y_batch.shape)\n",
    "#         break\n",
    "        y_pred = lstm(x_batch)\n",
    "        loss = criterion(y_pred, y_batch.float())\n",
    "        optimizer.zero_grad()\n",
    "        loss.backward()\n",
    "        optimizer.step()\n",
    "\n",
    "    # Evaluate model on test set\n",
    "    lstm.eval()\n",
    "    with torch.no_grad():\n",
    "        test_loss = 0\n",
    "        for x_test, y_test in test_loader:\n",
    "            x_test = x_test.unsqueeze(-1) # Add input_size dimension\n",
    "            y_pred = lstm(x_test)\n",
    "            test_loss += criterion(y_pred, y_test.float()).item()\n",
    "        test_loss /= len(test_loader)\n",
    "        \n",
    "    print(f'Epoch {epoch+1}/{num_epochs}: Train Loss={loss.item():.4f}, Test Loss={test_loss:.4f}')"
   ]
  },
  {
   "cell_type": "code",
   "execution_count": 160,
   "metadata": {
    "ExecuteTime": {
     "end_time": "2023-04-11T00:56:30.271166Z",
     "start_time": "2023-04-11T00:56:30.266270Z"
    }
   },
   "outputs": [],
   "source": [
    "# Predict using trained model\n",
    "def predict_max(data_point, model, seq_len=15):\n",
    "    \n",
    "    model.eval()\n",
    "    with torch.no_grad():\n",
    "#         data_point = torch.tensor(data_point).float()\n",
    "        data = torch.tensor(data_point, dtype=torch.float32)\n",
    "\n",
    "        # Add batch size and input size dimensions\n",
    "        data = data.unsqueeze(-1)\n",
    "#         print(data)\n",
    "#         return\n",
    "        # Pass the data through the model\n",
    "        out = model(data)\n",
    "\n",
    "        # Squeeze the output to remove the batch size and hidden dimensions\n",
    "        out = out.squeeze()\n",
    "\n",
    "        # Apply the sigmoid function to get a probability value between 0 and 1\n",
    "        prob = torch.sigmoid(out)\n",
    "\n",
    "        # Threshold the probability at 0.5 to get a binary prediction\n",
    "        pred = (prob >= 0.5).float()\n",
    "\n",
    "        # Convert the prediction to a Python scalar and return it\n",
    "        return pred"
   ]
  },
  {
   "cell_type": "markdown",
   "metadata": {
    "ExecuteTime": {
     "end_time": "2023-04-11T00:53:30.723910Z",
     "start_time": "2023-04-11T00:53:30.699760Z"
    }
   },
   "source": [
    "def evaluate(model, test_loader, version='title', threshold=0.5):\n",
    "    y_pred = []\n",
    "    y_true = []\n",
    "\n",
    "    model.eval()\n",
    "    with torch.no_grad():\n",
    "        for X_batch, y_batch in test_loader:\n",
    "            output = model(X_batch)\n",
    "            output = (output > threshold).int()\n",
    "            y_pred.extend(output.tolist())\n",
    "            y_true.extend(y_batch.tolist())\n",
    "    \n",
    "    print('Classification Report:')\n",
    "    print(classification_report(y_true, y_pred, labels=[1,0], digits=4))\n",
    "    \n",
    "    cm = confusion_matrix(y_true, y_pred, labels=[1,0])\n",
    "    ax= plt.subplot()\n",
    "    sns.heatmap(cm, annot=True, ax = ax, cmap='Blues', fmt=\"d\")\n",
    "\n",
    "    ax.set_title('Confusion Matrix')\n",
    "\n",
    "    ax.set_xlabel('Predicted Labels')\n",
    "    ax.set_ylabel('True Labels')\n",
    "\n",
    "    ax.xaxis.set_ticklabels(['FAKE', 'REAL'])\n",
    "    ax.yaxis.set_ticklabels(['FAKE', 'REAL'])\n",
    "    \n",
    "    \n",
    "best_model = MinMaxClassifier(numer_of_features, hidden_size, num_layers, out_size, lr).to(device)\n",
    "optimizer = optim.Adam(best_model.parameters(), lr=0.001)\n",
    "\n",
    "load_checkpoint(destination_folder + '/model.pt', best_model, optimizer)\n",
    "evaluate(best_model, test_loader)"
   ]
  },
  {
   "cell_type": "code",
   "execution_count": 161,
   "metadata": {
    "ExecuteTime": {
     "end_time": "2023-04-11T00:56:33.434213Z",
     "start_time": "2023-04-11T00:56:33.428381Z"
    }
   },
   "outputs": [],
   "source": [
    "import sys\n"
   ]
  },
  {
   "cell_type": "code",
   "execution_count": 162,
   "metadata": {
    "ExecuteTime": {
     "end_time": "2023-04-11T00:56:34.783326Z",
     "start_time": "2023-04-11T00:56:34.237425Z"
    },
    "scrolled": false
   },
   "outputs": [
    {
     "name": "stderr",
     "output_type": "stream",
     "text": [
      "/home/shmalex/.conda/envs/py37/lib/python3.7/site-packages/ipykernel_launcher.py:7: UserWarning: To copy construct from a tensor, it is recommended to use sourceTensor.clone().detach() or sourceTensor.clone().detach().requires_grad_(True), rather than torch.tensor(sourceTensor).\n",
      "  import sys\n",
      "/home/shmalex/.conda/envs/py37/lib/python3.7/site-packages/ipykernel_launcher.py:7: UserWarning: To copy construct from a tensor, it is recommended to use sourceTensor.clone().detach() or sourceTensor.clone().detach().requires_grad_(True), rather than torch.tensor(sourceTensor).\n",
      "  import sys\n",
      "/home/shmalex/.conda/envs/py37/lib/python3.7/site-packages/ipykernel_launcher.py:7: UserWarning: To copy construct from a tensor, it is recommended to use sourceTensor.clone().detach() or sourceTensor.clone().detach().requires_grad_(True), rather than torch.tensor(sourceTensor).\n",
      "  import sys\n",
      "/home/shmalex/.conda/envs/py37/lib/python3.7/site-packages/ipykernel_launcher.py:7: UserWarning: To copy construct from a tensor, it is recommended to use sourceTensor.clone().detach() or sourceTensor.clone().detach().requires_grad_(True), rather than torch.tensor(sourceTensor).\n",
      "  import sys\n",
      "/home/shmalex/.conda/envs/py37/lib/python3.7/site-packages/ipykernel_launcher.py:7: UserWarning: To copy construct from a tensor, it is recommended to use sourceTensor.clone().detach() or sourceTensor.clone().detach().requires_grad_(True), rather than torch.tensor(sourceTensor).\n",
      "  import sys\n",
      "/home/shmalex/.conda/envs/py37/lib/python3.7/site-packages/ipykernel_launcher.py:7: UserWarning: To copy construct from a tensor, it is recommended to use sourceTensor.clone().detach() or sourceTensor.clone().detach().requires_grad_(True), rather than torch.tensor(sourceTensor).\n",
      "  import sys\n",
      "/home/shmalex/.conda/envs/py37/lib/python3.7/site-packages/ipykernel_launcher.py:7: UserWarning: To copy construct from a tensor, it is recommended to use sourceTensor.clone().detach() or sourceTensor.clone().detach().requires_grad_(True), rather than torch.tensor(sourceTensor).\n",
      "  import sys\n",
      "/home/shmalex/.conda/envs/py37/lib/python3.7/site-packages/ipykernel_launcher.py:7: UserWarning: To copy construct from a tensor, it is recommended to use sourceTensor.clone().detach() or sourceTensor.clone().detach().requires_grad_(True), rather than torch.tensor(sourceTensor).\n",
      "  import sys\n",
      "/home/shmalex/.conda/envs/py37/lib/python3.7/site-packages/ipykernel_launcher.py:7: UserWarning: To copy construct from a tensor, it is recommended to use sourceTensor.clone().detach() or sourceTensor.clone().detach().requires_grad_(True), rather than torch.tensor(sourceTensor).\n",
      "  import sys\n",
      "/home/shmalex/.conda/envs/py37/lib/python3.7/site-packages/ipykernel_launcher.py:7: UserWarning: To copy construct from a tensor, it is recommended to use sourceTensor.clone().detach() or sourceTensor.clone().detach().requires_grad_(True), rather than torch.tensor(sourceTensor).\n",
      "  import sys\n",
      "/home/shmalex/.conda/envs/py37/lib/python3.7/site-packages/ipykernel_launcher.py:7: UserWarning: To copy construct from a tensor, it is recommended to use sourceTensor.clone().detach() or sourceTensor.clone().detach().requires_grad_(True), rather than torch.tensor(sourceTensor).\n",
      "  import sys\n",
      "/home/shmalex/.conda/envs/py37/lib/python3.7/site-packages/ipykernel_launcher.py:7: UserWarning: To copy construct from a tensor, it is recommended to use sourceTensor.clone().detach() or sourceTensor.clone().detach().requires_grad_(True), rather than torch.tensor(sourceTensor).\n",
      "  import sys\n",
      "/home/shmalex/.conda/envs/py37/lib/python3.7/site-packages/ipykernel_launcher.py:7: UserWarning: To copy construct from a tensor, it is recommended to use sourceTensor.clone().detach() or sourceTensor.clone().detach().requires_grad_(True), rather than torch.tensor(sourceTensor).\n",
      "  import sys\n"
     ]
    },
    {
     "name": "stdout",
     "output_type": "stream",
     "text": [
      "Classification Report:\n",
      "              precision    recall  f1-score   support\n",
      "\n",
      "           1     0.0000    0.0000    0.0000        43\n",
      "           0     0.9672    1.0000    0.9833      1267\n",
      "\n",
      "    accuracy                         0.9672      1310\n",
      "   macro avg     0.4836    0.5000    0.4917      1310\n",
      "weighted avg     0.9354    0.9672    0.9510      1310\n",
      "\n"
     ]
    },
    {
     "name": "stderr",
     "output_type": "stream",
     "text": [
      "/home/shmalex/.conda/envs/py37/lib/python3.7/site-packages/ipykernel_launcher.py:7: UserWarning: To copy construct from a tensor, it is recommended to use sourceTensor.clone().detach() or sourceTensor.clone().detach().requires_grad_(True), rather than torch.tensor(sourceTensor).\n",
      "  import sys\n",
      "/home/shmalex/.conda/envs/py37/lib/python3.7/site-packages/ipykernel_launcher.py:7: UserWarning: To copy construct from a tensor, it is recommended to use sourceTensor.clone().detach() or sourceTensor.clone().detach().requires_grad_(True), rather than torch.tensor(sourceTensor).\n",
      "  import sys\n",
      "/home/shmalex/.conda/envs/py37/lib/python3.7/site-packages/ipykernel_launcher.py:7: UserWarning: To copy construct from a tensor, it is recommended to use sourceTensor.clone().detach() or sourceTensor.clone().detach().requires_grad_(True), rather than torch.tensor(sourceTensor).\n",
      "  import sys\n",
      "/home/shmalex/.conda/envs/py37/lib/python3.7/site-packages/ipykernel_launcher.py:7: UserWarning: To copy construct from a tensor, it is recommended to use sourceTensor.clone().detach() or sourceTensor.clone().detach().requires_grad_(True), rather than torch.tensor(sourceTensor).\n",
      "  import sys\n",
      "/home/shmalex/.conda/envs/py37/lib/python3.7/site-packages/ipykernel_launcher.py:7: UserWarning: To copy construct from a tensor, it is recommended to use sourceTensor.clone().detach() or sourceTensor.clone().detach().requires_grad_(True), rather than torch.tensor(sourceTensor).\n",
      "  import sys\n",
      "/home/shmalex/.conda/envs/py37/lib/python3.7/site-packages/ipykernel_launcher.py:7: UserWarning: To copy construct from a tensor, it is recommended to use sourceTensor.clone().detach() or sourceTensor.clone().detach().requires_grad_(True), rather than torch.tensor(sourceTensor).\n",
      "  import sys\n",
      "/home/shmalex/.conda/envs/py37/lib/python3.7/site-packages/ipykernel_launcher.py:7: UserWarning: To copy construct from a tensor, it is recommended to use sourceTensor.clone().detach() or sourceTensor.clone().detach().requires_grad_(True), rather than torch.tensor(sourceTensor).\n",
      "  import sys\n",
      "/home/shmalex/.conda/envs/py37/lib/python3.7/site-packages/ipykernel_launcher.py:7: UserWarning: To copy construct from a tensor, it is recommended to use sourceTensor.clone().detach() or sourceTensor.clone().detach().requires_grad_(True), rather than torch.tensor(sourceTensor).\n",
      "  import sys\n",
      "/home/shmalex/.conda/envs/py37/lib/python3.7/site-packages/sklearn/metrics/_classification.py:1272: UndefinedMetricWarning: Precision and F-score are ill-defined and being set to 0.0 in labels with no predicted samples. Use `zero_division` parameter to control this behavior.\n",
      "  _warn_prf(average, modifier, msg_start, len(result))\n"
     ]
    },
    {
     "data": {
      "text/plain": [
       "[Text(0, 0.5, 'Max'), Text(0, 1.5, 'Not max')]"
      ]
     },
     "execution_count": 162,
     "metadata": {},
     "output_type": "execute_result"
    },
    {
     "data": {
      "image/png": "[encoded data removed]",
      "text/plain": [
       "<Figure size 432x288 with 2 Axes>"
      ]
     },
     "metadata": {
      "needs_background": "light"
     },
     "output_type": "display_data"
    }
   ],
   "source": [
    "y_pred = []\n",
    "y_true = []\n",
    "for batch_idx, (x_batch, y_batch) in enumerate(test_loader):\n",
    "    output = predict_max(x_batch, lstm)\n",
    "    y_pred.extend(output.tolist())\n",
    "    y_true.extend(y_batch.tolist())\n",
    "\n",
    "print('Classification Report:')\n",
    "print(classification_report(y_true, y_pred, labels=[1,0], digits=4))\n",
    "\n",
    "cm = confusion_matrix(y_true, y_pred, labels=[1,0])\n",
    "ax= plt.subplot()\n",
    "sns.heatmap(cm, annot=True, ax = ax, cmap='Blues', fmt=\"d\")\n",
    "\n",
    "ax.set_title('Confusion Matrix')\n",
    "\n",
    "ax.set_xlabel('Predicted Labels')\n",
    "ax.set_ylabel('True Labels')\n",
    "\n",
    "ax.xaxis.set_ticklabels(['Max', 'Not max'])\n",
    "ax.yaxis.set_ticklabels(['Max', 'Not max'])\n",
    "    \n",
    "    "
   ]
  },
  {
   "cell_type": "code",
   "execution_count": null,
   "metadata": {},
   "outputs": [],
   "source": []
  }
 ],
 "metadata": {
  "kernelspec": {
   "display_name": "py37",
   "language": "python",
   "name": "py37"
  },
  "language_info": {
   "codemirror_mode": {
    "name": "ipython",
    "version": 3
   },
   "file_extension": ".py",
   "mimetype": "text/x-python",
   "name": "python",
   "nbconvert_exporter": "python",
   "pygments_lexer": "ipython3",
   "version": "3.7.6"
  }
 },
 "nbformat": 4,
 "nbformat_minor": 4
}
