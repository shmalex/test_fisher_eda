{
 "cells": [
  {
   "cell_type": "code",
   "execution_count": 1,
   "metadata": {},
   "outputs": [],
   "source": [
    "from tda import auth, client\n",
    "import json\n",
    "import pandas as pd\n",
    "from datetime import timezone\n",
    "import datetime\n",
    "import time\n",
    "import numpy as np\n",
    "\n",
    "from bokeh.plotting import figure, show, output_file\n",
    "from bokeh.models import ColumnDataSource, NumeralTickFormatter\n",
    "from bokeh.models import Range1d, HoverTool\n",
    "from bokeh.models import LinearAxis, WheelZoomTool, DataRange1d\n",
    "from math import pi\n",
    "from bokeh.layouts import gridplot\n",
    "from bokeh.palettes import d3"
   ]
  },
  {
   "cell_type": "code",
   "execution_count": 3,
   "metadata": {},
   "outputs": [
    {
     "name": "stdout",
     "output_type": "stream",
     "text": [
      "{\n",
      "    \"candles\": [\n",
      "        {\n",
      "            \"open\": 0.244821425,\n",
      "            \"high\": 0.245535725,\n",
      "            \"low\": 0.241071425,\n",
      "            \"close\": 0.2425,\n",
      "            \"volume\": 502958400,\n",
      "            \"datetime\": 1050296400000\n",
      "        },\n",
      "        {\n",
      "            \"open\": 0.242678575,\n",
      "            \"high\": 0.24285715,\n",
      "            \"low\": 0.2375,\n",
      "            \"close\": 0.23910715,\n",
      "            \"volume\": 303968000,\n",
      "            \"datetime\": 1050382800000\n",
      "        },\n",
      "        {\n",
      "            \"open\": 0.231964275,\n",
      "            \"high\": 0.24410715,\n",
      "            \"low\": 0.230714275,\n",
      "            \"close\": 0.236428575,\n",
      "            \"volume\": 1016176000,\n",
      "            \"datetime\": 1050469200000\n",
      "        },\n",
      "        {\n",
      "            \"open\": 0.235714275,\n",
      "            \"high\": 0.23660715,\n",
      "            \"low\": 0.22714285,\n",
      "            \"close\": 0.234285725,\n",
      "            \"volume\": 616257600,\n",
      "            \"datetime\": 1050555600000\n",
      "        },\n",
      "        {\n",
      "            \"open\": 0.234464275,\n",
      "            \"high\": 0.235535725,\n",
      "            \"low\": 0.23\n"
     ]
    }
   ],
   "source": [
    "\n",
    "token_path = 'token.json'\n",
    "api_key = 'AMATUSEVSKI3@AMER.OAUTHAP'\n",
    "redirect_uri = 'http://127.0.0.1:5000/key'\n",
    "try:\n",
    "    c = auth.client_from_token_file(token_path, api_key)\n",
    "except FileNotFoundError:\n",
    "    from selenium import webdriver\n",
    "    with webdriver.Chrome() as driver:\n",
    "        c = auth.client_from_login_flow(\n",
    "            driver, api_key, redirect_uri, token_path)\n",
    "\n",
    "r = c.get_price_history('AAPL',\n",
    "        period_type=client.Client.PriceHistory.PeriodType.YEAR,\n",
    "        period=client.Client.PriceHistory.Period.TWENTY_YEARS,\n",
    "        frequency_type=client.Client.PriceHistory.FrequencyType.DAILY,\n",
    "        frequency=client.Client.PriceHistory.Frequency.DAILY)\n",
    "assert r.status_code == 200, r.raise_for_status()\n",
    "print(json.dumps(r.json(), indent=4)[:1000])"
   ]
  },
  {
   "cell_type": "code",
   "execution_count": 23,
   "metadata": {},
   "outputs": [],
   "source": [
    "o = r.json()"
   ]
  },
  {
   "cell_type": "code",
   "execution_count": 24,
   "metadata": {},
   "outputs": [],
   "source": [
    "r = c.get_price_history('AAPL',\n",
    "        period_type=client.Client.PriceHistory.PeriodType.YEAR,\n",
    "        period=client.Client.PriceHistory.Period.TWENTY_YEARS,\n",
    "        frequency_type=client.Client.PriceHistory.FrequencyType.DAILY,\n",
    "        frequency=client.Client.PriceHistory.Frequency.DAILY)\n",
    "assert r.status_code == 200, r.raise_for_status()\n",
    "# print(json.dumps(r.json(), indent=4))"
   ]
  },
  {
   "cell_type": "code",
   "execution_count": 25,
   "metadata": {},
   "outputs": [],
   "source": [
    "r = c.get_price_history('AAPL',\n",
    "        period_type=client.Client.PriceHistory.PeriodType.DAY,\n",
    "        period=client.Client.PriceHistory.Period.TEN_DAYS,\n",
    "        frequency_type=client.Client.PriceHistory.FrequencyType.MINUTE,\n",
    "        frequency=client.Client.PriceHistory.Frequency.EVERY_MINUTE)\n",
    "assert r.status_code == 200, r.raise_for_status()\n"
   ]
  },
  {
   "cell_type": "code",
   "execution_count": 4,
   "metadata": {},
   "outputs": [
    {
     "name": "stdout",
     "output_type": "stream",
     "text": [
      "5035\n"
     ]
    }
   ],
   "source": [
    "o = r.json()\n",
    "print(len(o['candles']))\n"
   ]
  },
  {
   "cell_type": "code",
   "execution_count": 27,
   "metadata": {},
   "outputs": [
    {
     "data": {
      "text/html": [
       "<div>\n",
       "<style scoped>\n",
       "    .dataframe tbody tr th:only-of-type {\n",
       "        vertical-align: middle;\n",
       "    }\n",
       "\n",
       "    .dataframe tbody tr th {\n",
       "        vertical-align: top;\n",
       "    }\n",
       "\n",
       "    .dataframe thead th {\n",
       "        text-align: right;\n",
       "    }\n",
       "</style>\n",
       "<table border=\"1\" class=\"dataframe\">\n",
       "  <thead>\n",
       "    <tr style=\"text-align: right;\">\n",
       "      <th></th>\n",
       "      <th>open</th>\n",
       "      <th>high</th>\n",
       "      <th>low</th>\n",
       "      <th>close</th>\n",
       "      <th>volume</th>\n",
       "      <th>datetime</th>\n",
       "    </tr>\n",
       "  </thead>\n",
       "  <tbody>\n",
       "    <tr>\n",
       "      <th>0</th>\n",
       "      <td>161.20</td>\n",
       "      <td>161.2000</td>\n",
       "      <td>161.09</td>\n",
       "      <td>161.15</td>\n",
       "      <td>4018</td>\n",
       "      <td>2023-03-30 07:00:00</td>\n",
       "    </tr>\n",
       "    <tr>\n",
       "      <th>1</th>\n",
       "      <td>161.15</td>\n",
       "      <td>161.1500</td>\n",
       "      <td>161.15</td>\n",
       "      <td>161.15</td>\n",
       "      <td>1652</td>\n",
       "      <td>2023-03-30 07:01:00</td>\n",
       "    </tr>\n",
       "    <tr>\n",
       "      <th>2</th>\n",
       "      <td>161.18</td>\n",
       "      <td>161.2000</td>\n",
       "      <td>161.18</td>\n",
       "      <td>161.20</td>\n",
       "      <td>1835</td>\n",
       "      <td>2023-03-30 07:02:00</td>\n",
       "    </tr>\n",
       "    <tr>\n",
       "      <th>3</th>\n",
       "      <td>161.27</td>\n",
       "      <td>161.2900</td>\n",
       "      <td>161.26</td>\n",
       "      <td>161.29</td>\n",
       "      <td>6691</td>\n",
       "      <td>2023-03-30 07:03:00</td>\n",
       "    </tr>\n",
       "    <tr>\n",
       "      <th>4</th>\n",
       "      <td>161.28</td>\n",
       "      <td>161.3800</td>\n",
       "      <td>161.28</td>\n",
       "      <td>161.38</td>\n",
       "      <td>11270</td>\n",
       "      <td>2023-03-30 07:04:00</td>\n",
       "    </tr>\n",
       "    <tr>\n",
       "      <th>...</th>\n",
       "      <td>...</td>\n",
       "      <td>...</td>\n",
       "      <td>...</td>\n",
       "      <td>...</td>\n",
       "      <td>...</td>\n",
       "      <td>...</td>\n",
       "    </tr>\n",
       "    <tr>\n",
       "      <th>7093</th>\n",
       "      <td>165.22</td>\n",
       "      <td>165.2501</td>\n",
       "      <td>165.22</td>\n",
       "      <td>165.25</td>\n",
       "      <td>2325</td>\n",
       "      <td>2023-04-13 19:55:00</td>\n",
       "    </tr>\n",
       "    <tr>\n",
       "      <th>7094</th>\n",
       "      <td>165.25</td>\n",
       "      <td>165.2900</td>\n",
       "      <td>165.25</td>\n",
       "      <td>165.29</td>\n",
       "      <td>1001</td>\n",
       "      <td>2023-04-13 19:56:00</td>\n",
       "    </tr>\n",
       "    <tr>\n",
       "      <th>7095</th>\n",
       "      <td>165.29</td>\n",
       "      <td>165.2900</td>\n",
       "      <td>165.25</td>\n",
       "      <td>165.25</td>\n",
       "      <td>522</td>\n",
       "      <td>2023-04-13 19:57:00</td>\n",
       "    </tr>\n",
       "    <tr>\n",
       "      <th>7096</th>\n",
       "      <td>165.28</td>\n",
       "      <td>165.2800</td>\n",
       "      <td>165.26</td>\n",
       "      <td>165.26</td>\n",
       "      <td>200</td>\n",
       "      <td>2023-04-13 19:58:00</td>\n",
       "    </tr>\n",
       "    <tr>\n",
       "      <th>7097</th>\n",
       "      <td>165.29</td>\n",
       "      <td>165.3499</td>\n",
       "      <td>165.29</td>\n",
       "      <td>165.34</td>\n",
       "      <td>2436</td>\n",
       "      <td>2023-04-13 19:59:00</td>\n",
       "    </tr>\n",
       "  </tbody>\n",
       "</table>\n",
       "<p>7098 rows × 6 columns</p>\n",
       "</div>"
      ],
      "text/plain": [
       "        open      high     low   close  volume            datetime\n",
       "0     161.20  161.2000  161.09  161.15    4018 2023-03-30 07:00:00\n",
       "1     161.15  161.1500  161.15  161.15    1652 2023-03-30 07:01:00\n",
       "2     161.18  161.2000  161.18  161.20    1835 2023-03-30 07:02:00\n",
       "3     161.27  161.2900  161.26  161.29    6691 2023-03-30 07:03:00\n",
       "4     161.28  161.3800  161.28  161.38   11270 2023-03-30 07:04:00\n",
       "...      ...       ...     ...     ...     ...                 ...\n",
       "7093  165.22  165.2501  165.22  165.25    2325 2023-04-13 19:55:00\n",
       "7094  165.25  165.2900  165.25  165.29    1001 2023-04-13 19:56:00\n",
       "7095  165.29  165.2900  165.25  165.25     522 2023-04-13 19:57:00\n",
       "7096  165.28  165.2800  165.26  165.26     200 2023-04-13 19:58:00\n",
       "7097  165.29  165.3499  165.29  165.34    2436 2023-04-13 19:59:00\n",
       "\n",
       "[7098 rows x 6 columns]"
      ]
     },
     "execution_count": 27,
     "metadata": {},
     "output_type": "execute_result"
    }
   ],
   "source": [
    "df = pd.DataFrame(o['candles'])\n",
    "df['datetime'] = list(map(datetime.datetime.fromtimestamp,df['datetime']/1000))\n",
    "df"
   ]
  },
  {
   "cell_type": "code",
   "execution_count": 28,
   "metadata": {},
   "outputs": [],
   "source": [
    "candles = []"
   ]
  },
  {
   "cell_type": "code",
   "execution_count": 29,
   "metadata": {},
   "outputs": [
    {
     "name": "stdout",
     "output_type": "stream",
     "text": [
      "4660\n"
     ]
    },
    {
     "data": {
      "text/html": [
       "<div>\n",
       "<style scoped>\n",
       "    .dataframe tbody tr th:only-of-type {\n",
       "        vertical-align: middle;\n",
       "    }\n",
       "\n",
       "    .dataframe tbody tr th {\n",
       "        vertical-align: top;\n",
       "    }\n",
       "\n",
       "    .dataframe thead th {\n",
       "        text-align: right;\n",
       "    }\n",
       "</style>\n",
       "<table border=\"1\" class=\"dataframe\">\n",
       "  <thead>\n",
       "    <tr style=\"text-align: right;\">\n",
       "      <th></th>\n",
       "      <th>open</th>\n",
       "      <th>high</th>\n",
       "      <th>low</th>\n",
       "      <th>close</th>\n",
       "      <th>volume</th>\n",
       "      <th>datetime</th>\n",
       "    </tr>\n",
       "  </thead>\n",
       "  <tbody>\n",
       "    <tr>\n",
       "      <th>0</th>\n",
       "      <td>12934.9927</td>\n",
       "      <td>12939.1000</td>\n",
       "      <td>12930.7747</td>\n",
       "      <td>12930.7747</td>\n",
       "      <td>0</td>\n",
       "      <td>2023-03-30 09:30:00</td>\n",
       "    </tr>\n",
       "    <tr>\n",
       "      <th>1</th>\n",
       "      <td>12930.0955</td>\n",
       "      <td>12932.4596</td>\n",
       "      <td>12924.3781</td>\n",
       "      <td>12928.0427</td>\n",
       "      <td>0</td>\n",
       "      <td>2023-03-30 09:31:00</td>\n",
       "    </tr>\n",
       "    <tr>\n",
       "      <th>2</th>\n",
       "      <td>12929.9704</td>\n",
       "      <td>12952.8262</td>\n",
       "      <td>12929.9704</td>\n",
       "      <td>12950.4721</td>\n",
       "      <td>0</td>\n",
       "      <td>2023-03-30 09:32:00</td>\n",
       "    </tr>\n",
       "    <tr>\n",
       "      <th>3</th>\n",
       "      <td>12949.8722</td>\n",
       "      <td>12949.8722</td>\n",
       "      <td>12944.4791</td>\n",
       "      <td>12946.5453</td>\n",
       "      <td>0</td>\n",
       "      <td>2023-03-30 09:33:00</td>\n",
       "    </tr>\n",
       "    <tr>\n",
       "      <th>4</th>\n",
       "      <td>12946.6206</td>\n",
       "      <td>12947.6260</td>\n",
       "      <td>12938.2486</td>\n",
       "      <td>12941.9542</td>\n",
       "      <td>0</td>\n",
       "      <td>2023-03-30 09:34:00</td>\n",
       "    </tr>\n",
       "    <tr>\n",
       "      <th>...</th>\n",
       "      <td>...</td>\n",
       "      <td>...</td>\n",
       "      <td>...</td>\n",
       "      <td>...</td>\n",
       "      <td>...</td>\n",
       "      <td>...</td>\n",
       "    </tr>\n",
       "    <tr>\n",
       "      <th>4655</th>\n",
       "      <td>13109.3887</td>\n",
       "      <td>13109.3887</td>\n",
       "      <td>13109.3887</td>\n",
       "      <td>13109.3887</td>\n",
       "      <td>0</td>\n",
       "      <td>2023-04-13 17:11:00</td>\n",
       "    </tr>\n",
       "    <tr>\n",
       "      <th>4656</th>\n",
       "      <td>13109.3887</td>\n",
       "      <td>13109.3887</td>\n",
       "      <td>13109.3887</td>\n",
       "      <td>13109.3887</td>\n",
       "      <td>0</td>\n",
       "      <td>2023-04-13 17:12:00</td>\n",
       "    </tr>\n",
       "    <tr>\n",
       "      <th>4657</th>\n",
       "      <td>13109.3887</td>\n",
       "      <td>13109.3887</td>\n",
       "      <td>13109.3887</td>\n",
       "      <td>13109.3887</td>\n",
       "      <td>0</td>\n",
       "      <td>2023-04-13 17:13:00</td>\n",
       "    </tr>\n",
       "    <tr>\n",
       "      <th>4658</th>\n",
       "      <td>13109.3887</td>\n",
       "      <td>13109.3887</td>\n",
       "      <td>13109.3887</td>\n",
       "      <td>13109.3887</td>\n",
       "      <td>0</td>\n",
       "      <td>2023-04-13 17:14:00</td>\n",
       "    </tr>\n",
       "    <tr>\n",
       "      <th>4659</th>\n",
       "      <td>13109.3887</td>\n",
       "      <td>13109.3887</td>\n",
       "      <td>13109.3887</td>\n",
       "      <td>13109.3887</td>\n",
       "      <td>0</td>\n",
       "      <td>2023-04-13 17:15:00</td>\n",
       "    </tr>\n",
       "  </tbody>\n",
       "</table>\n",
       "<p>4660 rows × 6 columns</p>\n",
       "</div>"
      ],
      "text/plain": [
       "            open        high         low       close  volume   \n",
       "0     12934.9927  12939.1000  12930.7747  12930.7747       0  \\\n",
       "1     12930.0955  12932.4596  12924.3781  12928.0427       0   \n",
       "2     12929.9704  12952.8262  12929.9704  12950.4721       0   \n",
       "3     12949.8722  12949.8722  12944.4791  12946.5453       0   \n",
       "4     12946.6206  12947.6260  12938.2486  12941.9542       0   \n",
       "...          ...         ...         ...         ...     ...   \n",
       "4655  13109.3887  13109.3887  13109.3887  13109.3887       0   \n",
       "4656  13109.3887  13109.3887  13109.3887  13109.3887       0   \n",
       "4657  13109.3887  13109.3887  13109.3887  13109.3887       0   \n",
       "4658  13109.3887  13109.3887  13109.3887  13109.3887       0   \n",
       "4659  13109.3887  13109.3887  13109.3887  13109.3887       0   \n",
       "\n",
       "                datetime  \n",
       "0    2023-03-30 09:30:00  \n",
       "1    2023-03-30 09:31:00  \n",
       "2    2023-03-30 09:32:00  \n",
       "3    2023-03-30 09:33:00  \n",
       "4    2023-03-30 09:34:00  \n",
       "...                  ...  \n",
       "4655 2023-04-13 17:11:00  \n",
       "4656 2023-04-13 17:12:00  \n",
       "4657 2023-04-13 17:13:00  \n",
       "4658 2023-04-13 17:14:00  \n",
       "4659 2023-04-13 17:15:00  \n",
       "\n",
       "[4660 rows x 6 columns]"
      ]
     },
     "execution_count": 29,
     "metadata": {},
     "output_type": "execute_result"
    }
   ],
   "source": [
    "r = c.get_price_history('$NDX.X',\n",
    "        period_type=client.Client.PriceHistory.PeriodType.DAY,\n",
    "        period=client.Client.PriceHistory.Period.TEN_DAYS,\n",
    "        frequency_type=client.Client.PriceHistory.FrequencyType.MINUTE,\n",
    "        frequency=client.Client.PriceHistory.Frequency.EVERY_MINUTE)\n",
    "assert r.status_code == 200, r.raise_for_status()\n",
    "\n",
    "o = r.json()\n",
    "print(len(o['candles']))\n",
    "df = pd.DataFrame(o['candles'])\n",
    "df['datetime'] = list(map(datetime.datetime.fromtimestamp,df['datetime']/1000))\n",
    "df\n"
   ]
  },
  {
   "cell_type": "code",
   "execution_count": 30,
   "metadata": {},
   "outputs": [],
   "source": [
    "candles += o['candles']"
   ]
  },
  {
   "cell_type": "code",
   "execution_count": 31,
   "metadata": {},
   "outputs": [
    {
     "data": {
      "text/plain": [
       "4660"
      ]
     },
     "execution_count": 31,
     "metadata": {},
     "output_type": "execute_result"
    }
   ],
   "source": [
    "len(candles)"
   ]
  },
  {
   "cell_type": "code",
   "execution_count": 32,
   "metadata": {},
   "outputs": [
    {
     "data": {
      "text/plain": [
       "1680183000000"
      ]
     },
     "execution_count": 32,
     "metadata": {},
     "output_type": "execute_result"
    }
   ],
   "source": [
    "o['candles'][0]['datetime']"
   ]
  },
  {
   "cell_type": "code",
   "execution_count": 33,
   "metadata": {},
   "outputs": [],
   "source": [
    "def get_date(d):\n",
    "    return datetime.datetime.fromtimestamp(d/1000)"
   ]
  },
  {
   "cell_type": "code",
   "execution_count": 34,
   "metadata": {},
   "outputs": [
    {
     "data": {
      "text/plain": [
       "(datetime.datetime(2023, 3, 30, 9, 30), datetime.datetime(2023, 4, 13, 17, 15))"
      ]
     },
     "execution_count": 34,
     "metadata": {},
     "output_type": "execute_result"
    }
   ],
   "source": [
    "get_date(o['candles'][0]['datetime']), get_date(o['candles'][-1]['datetime'])"
   ]
  },
  {
   "cell_type": "code",
   "execution_count": 35,
   "metadata": {},
   "outputs": [
    {
     "name": "stdout",
     "output_type": "stream",
     "text": [
      "4194 2023-03-10 09:30:00 2023-03-20 09:30:00\n",
      "7456 2023-02-28 09:30:00 2023-03-10 09:30:00\n",
      "11650 2023-02-18 09:30:00 2023-02-28 09:30:00\n",
      "12582 2023-02-08 09:30:00 2023-02-18 09:30:00\n",
      "12582 2023-01-29 09:30:00 2023-02-08 09:30:00\n",
      "12582 2023-01-19 09:30:00 2023-01-29 09:30:00\n",
      "12582 2023-01-09 09:30:00 2023-01-19 09:30:00\n",
      "12582 2022-12-30 09:30:00 2023-01-09 09:30:00\n",
      "12582 2022-12-20 09:30:00 2022-12-30 09:30:00\n",
      "12582 2022-12-10 09:30:00 2022-12-20 09:30:00\n"
     ]
    }
   ],
   "source": [
    "candles = []\n",
    "new_date = datetime.datetime.fromtimestamp(o['candles'][0]['datetime']/1000)\n",
    "start_datetime =  new_date + datetime.timedelta(days=-10)\n",
    "end_datetime =  new_date\n",
    "for i  in range(10):\n",
    "        r = c.get_price_history('$NDX.X',\n",
    "                period_type=client.Client.PriceHistory.PeriodType.DAY,\n",
    "                # period=client.Client.PriceHistory.Period.TEN_DAYS,\n",
    "                frequency_type=client.Client.PriceHistory.FrequencyType.MINUTE,\n",
    "                frequency=client.Client.PriceHistory.Frequency.EVERY_MINUTE,\n",
    "                start_datetime=start_datetime,\n",
    "                end_datetime=end_datetime)\n",
    "        assert r.status_code == 200, r.raise_for_status()\n",
    "\n",
    "        o = r.json()\n",
    "        candles += o['candles']\n",
    "        start_datetime = start_datetime + datetime.timedelta(days=-10)\n",
    "        end_datetime = end_datetime + datetime.timedelta(days=-10)\n",
    "        print(len(candles), start_datetime, end_datetime)\n"
   ]
  },
  {
   "cell_type": "code",
   "execution_count": 36,
   "metadata": {},
   "outputs": [],
   "source": [
    "df.to_csv('../data/NDX.X.csv', index=False)"
   ]
  },
  {
   "cell_type": "code",
   "execution_count": 37,
   "metadata": {},
   "outputs": [
    {
     "data": {
      "text/html": [
       "<div>\n",
       "<style scoped>\n",
       "    .dataframe tbody tr th:only-of-type {\n",
       "        vertical-align: middle;\n",
       "    }\n",
       "\n",
       "    .dataframe tbody tr th {\n",
       "        vertical-align: top;\n",
       "    }\n",
       "\n",
       "    .dataframe thead th {\n",
       "        text-align: right;\n",
       "    }\n",
       "</style>\n",
       "<table border=\"1\" class=\"dataframe\">\n",
       "  <thead>\n",
       "    <tr style=\"text-align: right;\">\n",
       "      <th></th>\n",
       "      <th>open</th>\n",
       "      <th>high</th>\n",
       "      <th>low</th>\n",
       "      <th>close</th>\n",
       "      <th>volume</th>\n",
       "      <th>datetime</th>\n",
       "    </tr>\n",
       "  </thead>\n",
       "  <tbody>\n",
       "    <tr>\n",
       "      <th>0</th>\n",
       "      <td>12934.9927</td>\n",
       "      <td>12939.1000</td>\n",
       "      <td>12930.7747</td>\n",
       "      <td>12930.7747</td>\n",
       "      <td>0</td>\n",
       "      <td>2023-03-30 09:30:00</td>\n",
       "    </tr>\n",
       "    <tr>\n",
       "      <th>1</th>\n",
       "      <td>12930.0955</td>\n",
       "      <td>12932.4596</td>\n",
       "      <td>12924.3781</td>\n",
       "      <td>12928.0427</td>\n",
       "      <td>0</td>\n",
       "      <td>2023-03-30 09:31:00</td>\n",
       "    </tr>\n",
       "    <tr>\n",
       "      <th>2</th>\n",
       "      <td>12929.9704</td>\n",
       "      <td>12952.8262</td>\n",
       "      <td>12929.9704</td>\n",
       "      <td>12950.4721</td>\n",
       "      <td>0</td>\n",
       "      <td>2023-03-30 09:32:00</td>\n",
       "    </tr>\n",
       "    <tr>\n",
       "      <th>3</th>\n",
       "      <td>12949.8722</td>\n",
       "      <td>12949.8722</td>\n",
       "      <td>12944.4791</td>\n",
       "      <td>12946.5453</td>\n",
       "      <td>0</td>\n",
       "      <td>2023-03-30 09:33:00</td>\n",
       "    </tr>\n",
       "    <tr>\n",
       "      <th>4</th>\n",
       "      <td>12946.6206</td>\n",
       "      <td>12947.6260</td>\n",
       "      <td>12938.2486</td>\n",
       "      <td>12941.9542</td>\n",
       "      <td>0</td>\n",
       "      <td>2023-03-30 09:34:00</td>\n",
       "    </tr>\n",
       "  </tbody>\n",
       "</table>\n",
       "</div>"
      ],
      "text/plain": [
       "         open        high         low       close  volume            datetime\n",
       "0  12934.9927  12939.1000  12930.7747  12930.7747       0 2023-03-30 09:30:00\n",
       "1  12930.0955  12932.4596  12924.3781  12928.0427       0 2023-03-30 09:31:00\n",
       "2  12929.9704  12952.8262  12929.9704  12950.4721       0 2023-03-30 09:32:00\n",
       "3  12949.8722  12949.8722  12944.4791  12946.5453       0 2023-03-30 09:33:00\n",
       "4  12946.6206  12947.6260  12938.2486  12941.9542       0 2023-03-30 09:34:00"
      ]
     },
     "execution_count": 37,
     "metadata": {},
     "output_type": "execute_result"
    }
   ],
   "source": [
    "df = pd.read_csv('../data/NDX.X.csv')\n",
    "df['datetime'] = pd.to_datetime(df['datetime'])\n",
    "df.head()"
   ]
  },
  {
   "cell_type": "code",
   "execution_count": 38,
   "metadata": {},
   "outputs": [],
   "source": [
    "def fisher_transform(close, period=9):\n",
    "    # Calculate the midpoint price\n",
    "    mp = (close + pd.Series.rolling(close, window=period).min() + pd.Series.rolling(close, window=period).max()) / 3\n",
    "    \n",
    "    # Calculate the difference between the midpoint price and the close price\n",
    "    diff = close - mp\n",
    "    \n",
    "    # Calculate the maximum and minimum values over the period\n",
    "    max_diff = pd.Series.rolling(diff.abs(), window=period).max()\n",
    "    min_diff = pd.Series.rolling(diff.abs(), window=period).min()\n",
    "    \n",
    "    # Calculate the relative strength\n",
    "    rs = (diff - min_diff) / (max_diff - min_diff)\n",
    "    \n",
    "    # Calculate the Fisher Transform\n",
    "    fish = 0.5 * np.log((1 + rs) / (1 - rs))\n",
    "    \n",
    "    return fish"
   ]
  },
  {
   "cell_type": "code",
   "execution_count": 39,
   "metadata": {},
   "outputs": [],
   "source": [
    "def fisher_transform(close, period=9):\n",
    "    # Calculate the midpoint price\n",
    "    mp = (close + pd.Series.rolling(close, window=period).min() + pd.Series.rolling(close, window=period).max()) / 3\n",
    "    \n",
    "    # Calculate the difference between the midpoint price and the close price\n",
    "    diff = close - mp\n",
    "    \n",
    "    # Calculate the maximum and minimum values over the period\n",
    "    max_diff = pd.Series.rolling(diff.abs(), window=period).max()\n",
    "    min_diff = pd.Series.rolling(diff.abs(), window=period).min()\n",
    "    \n",
    "    # Calculate the relative strength\n",
    "    rs = (diff - min_diff) / (max_diff - min_diff)\n",
    "    \n",
    "    # Calculate the Fisher Transform\n",
    "    fish = 0.5 * np.log((1 + rs) / (1 - rs))\n",
    "    \n",
    "    return fish"
   ]
  },
  {
   "cell_type": "code",
   "execution_count": 40,
   "metadata": {},
   "outputs": [],
   "source": [
    "nasdaq_data = df['close'].values"
   ]
  },
  {
   "cell_type": "code",
   "execution_count": 41,
   "metadata": {},
   "outputs": [],
   "source": [
    "def fix_periods(df, col):\n",
    "    df[col] = df[col].fillna(0)\n",
    "    fisher_min = df[df[col]>-np.inf][col].min()\n",
    "    fisher_max = df[df[col]<np.inf][col].max()\n",
    "    df.loc[df[col] == np.inf,col]=fisher_max\n",
    "    df.loc[df[col] == -np.inf,col]=fisher_min\n"
   ]
  },
  {
   "cell_type": "code",
   "execution_count": 42,
   "metadata": {},
   "outputs": [
    {
     "name": "stderr",
     "output_type": "stream",
     "text": [
      "c:\\Users\\amatu\\AppData\\Local\\Programs\\Python\\Python39\\lib\\site-packages\\pandas\\core\\arraylike.py:396: RuntimeWarning: divide by zero encountered in log\n",
      "  result = getattr(ufunc, method)(*inputs, **kwargs)\n",
      "c:\\Users\\amatu\\AppData\\Local\\Programs\\Python\\Python39\\lib\\site-packages\\pandas\\core\\arraylike.py:396: RuntimeWarning: invalid value encountered in log\n",
      "  result = getattr(ufunc, method)(*inputs, **kwargs)\n",
      "c:\\Users\\amatu\\AppData\\Local\\Programs\\Python\\Python39\\lib\\site-packages\\pandas\\core\\arraylike.py:396: RuntimeWarning: divide by zero encountered in log\n",
      "  result = getattr(ufunc, method)(*inputs, **kwargs)\n",
      "c:\\Users\\amatu\\AppData\\Local\\Programs\\Python\\Python39\\lib\\site-packages\\pandas\\core\\arraylike.py:396: RuntimeWarning: invalid value encountered in log\n",
      "  result = getattr(ufunc, method)(*inputs, **kwargs)\n",
      "c:\\Users\\amatu\\AppData\\Local\\Programs\\Python\\Python39\\lib\\site-packages\\pandas\\core\\arraylike.py:396: RuntimeWarning: divide by zero encountered in log\n",
      "  result = getattr(ufunc, method)(*inputs, **kwargs)\n",
      "c:\\Users\\amatu\\AppData\\Local\\Programs\\Python\\Python39\\lib\\site-packages\\pandas\\core\\arraylike.py:396: RuntimeWarning: invalid value encountered in log\n",
      "  result = getattr(ufunc, method)(*inputs, **kwargs)\n"
     ]
    }
   ],
   "source": [
    "periods = [9,20, 50]\n",
    "for period in periods:\n",
    "    col = f'fisher{period}'\n",
    "    df[col] = fisher_transform(df['close'], period=period)\n",
    "    fix_periods(df, col)\n",
    "    df[col + 'ma2']=df[col].rolling(window=2).mean()"
   ]
  },
  {
   "cell_type": "code",
   "execution_count": 43,
   "metadata": {},
   "outputs": [
    {
     "data": {
      "text/html": [
       "<div>\n",
       "<style scoped>\n",
       "    .dataframe tbody tr th:only-of-type {\n",
       "        vertical-align: middle;\n",
       "    }\n",
       "\n",
       "    .dataframe tbody tr th {\n",
       "        vertical-align: top;\n",
       "    }\n",
       "\n",
       "    .dataframe thead th {\n",
       "        text-align: right;\n",
       "    }\n",
       "</style>\n",
       "<table border=\"1\" class=\"dataframe\">\n",
       "  <thead>\n",
       "    <tr style=\"text-align: right;\">\n",
       "      <th></th>\n",
       "      <th>open</th>\n",
       "      <th>high</th>\n",
       "      <th>low</th>\n",
       "      <th>close</th>\n",
       "      <th>volume</th>\n",
       "      <th>datetime</th>\n",
       "      <th>fisher9</th>\n",
       "      <th>fisher9ma2</th>\n",
       "      <th>fisher20</th>\n",
       "      <th>fisher20ma2</th>\n",
       "      <th>fisher50</th>\n",
       "      <th>fisher50ma2</th>\n",
       "    </tr>\n",
       "  </thead>\n",
       "  <tbody>\n",
       "    <tr>\n",
       "      <th>0</th>\n",
       "      <td>12934.9927</td>\n",
       "      <td>12939.1000</td>\n",
       "      <td>12930.7747</td>\n",
       "      <td>12930.7747</td>\n",
       "      <td>0</td>\n",
       "      <td>2023-03-30 09:30:00</td>\n",
       "      <td>0.0</td>\n",
       "      <td>NaN</td>\n",
       "      <td>0.0</td>\n",
       "      <td>NaN</td>\n",
       "      <td>0.0</td>\n",
       "      <td>NaN</td>\n",
       "    </tr>\n",
       "    <tr>\n",
       "      <th>1</th>\n",
       "      <td>12930.0955</td>\n",
       "      <td>12932.4596</td>\n",
       "      <td>12924.3781</td>\n",
       "      <td>12928.0427</td>\n",
       "      <td>0</td>\n",
       "      <td>2023-03-30 09:31:00</td>\n",
       "      <td>0.0</td>\n",
       "      <td>0.0</td>\n",
       "      <td>0.0</td>\n",
       "      <td>0.0</td>\n",
       "      <td>0.0</td>\n",
       "      <td>0.0</td>\n",
       "    </tr>\n",
       "    <tr>\n",
       "      <th>2</th>\n",
       "      <td>12929.9704</td>\n",
       "      <td>12952.8262</td>\n",
       "      <td>12929.9704</td>\n",
       "      <td>12950.4721</td>\n",
       "      <td>0</td>\n",
       "      <td>2023-03-30 09:32:00</td>\n",
       "      <td>0.0</td>\n",
       "      <td>0.0</td>\n",
       "      <td>0.0</td>\n",
       "      <td>0.0</td>\n",
       "      <td>0.0</td>\n",
       "      <td>0.0</td>\n",
       "    </tr>\n",
       "    <tr>\n",
       "      <th>3</th>\n",
       "      <td>12949.8722</td>\n",
       "      <td>12949.8722</td>\n",
       "      <td>12944.4791</td>\n",
       "      <td>12946.5453</td>\n",
       "      <td>0</td>\n",
       "      <td>2023-03-30 09:33:00</td>\n",
       "      <td>0.0</td>\n",
       "      <td>0.0</td>\n",
       "      <td>0.0</td>\n",
       "      <td>0.0</td>\n",
       "      <td>0.0</td>\n",
       "      <td>0.0</td>\n",
       "    </tr>\n",
       "    <tr>\n",
       "      <th>4</th>\n",
       "      <td>12946.6206</td>\n",
       "      <td>12947.6260</td>\n",
       "      <td>12938.2486</td>\n",
       "      <td>12941.9542</td>\n",
       "      <td>0</td>\n",
       "      <td>2023-03-30 09:34:00</td>\n",
       "      <td>0.0</td>\n",
       "      <td>0.0</td>\n",
       "      <td>0.0</td>\n",
       "      <td>0.0</td>\n",
       "      <td>0.0</td>\n",
       "      <td>0.0</td>\n",
       "    </tr>\n",
       "  </tbody>\n",
       "</table>\n",
       "</div>"
      ],
      "text/plain": [
       "         open        high         low       close  volume            datetime   \n",
       "0  12934.9927  12939.1000  12930.7747  12930.7747       0 2023-03-30 09:30:00  \\\n",
       "1  12930.0955  12932.4596  12924.3781  12928.0427       0 2023-03-30 09:31:00   \n",
       "2  12929.9704  12952.8262  12929.9704  12950.4721       0 2023-03-30 09:32:00   \n",
       "3  12949.8722  12949.8722  12944.4791  12946.5453       0 2023-03-30 09:33:00   \n",
       "4  12946.6206  12947.6260  12938.2486  12941.9542       0 2023-03-30 09:34:00   \n",
       "\n",
       "   fisher9  fisher9ma2  fisher20  fisher20ma2  fisher50  fisher50ma2  \n",
       "0      0.0         NaN       0.0          NaN       0.0          NaN  \n",
       "1      0.0         0.0       0.0          0.0       0.0          0.0  \n",
       "2      0.0         0.0       0.0          0.0       0.0          0.0  \n",
       "3      0.0         0.0       0.0          0.0       0.0          0.0  \n",
       "4      0.0         0.0       0.0          0.0       0.0          0.0  "
      ]
     },
     "execution_count": 43,
     "metadata": {},
     "output_type": "execute_result"
    }
   ],
   "source": [
    "df.head()"
   ]
  },
  {
   "cell_type": "code",
   "execution_count": 44,
   "metadata": {},
   "outputs": [
    {
     "data": {
      "text/plain": [
       "<Axes: >"
      ]
     },
     "execution_count": 44,
     "metadata": {},
     "output_type": "execute_result"
    },
    {
     "data": {
      "image/png": "[encoded data removed]",
      "text/plain": [
       "<Figure size 640x480 with 1 Axes>"
      ]
     },
     "metadata": {},
     "output_type": "display_data"
    }
   ],
   "source": [
    "# (((df['close'].max()-df['close'])/df['close'].max())*50).plot(alpha=0.3)\n",
    "df['fisher9'].plot(alpha=0.3)\n",
    "df['fisher20'].plot(alpha=0.3)"
   ]
  },
  {
   "cell_type": "code",
   "execution_count": 45,
   "metadata": {},
   "outputs": [
    {
     "data": {
      "text/plain": [
       "count    4660.000000\n",
       "mean        0.381790\n",
       "std         1.358546\n",
       "min        -3.507621\n",
       "25%         0.000000\n",
       "50%         0.000000\n",
       "75%         0.495986\n",
       "max         4.340741\n",
       "Name: fisher9, dtype: float64"
      ]
     },
     "execution_count": 45,
     "metadata": {},
     "output_type": "execute_result"
    }
   ],
   "source": [
    "df['fisher9'].describe()"
   ]
  },
  {
   "cell_type": "code",
   "execution_count": 46,
   "metadata": {},
   "outputs": [],
   "source": [
    "source = ColumnDataSource(data=dict(\n",
    "    date=df['datetime'],\n",
    "    idx=df.index,\n",
    "    open=df[\"open\"],\n",
    "    high=df[\"high\"],\n",
    "    low=df[\"low\"],\n",
    "    close=df[\"close\"]\n",
    "))\n",
    "fisher_source = ColumnDataSource(data=dict(\n",
    "    # date=df['datetime'],\n",
    "    idxs=[df.index for period in periods],\n",
    "    fishers=[df[f'fisher{period}'] for period in periods],\n",
    "    periods=[f'{period}' for period in periods],\n",
    "    colors = [d3['Category10'][len(periods)][i] for i in range(len(periods))]\n",
    "    # **{f'fisher{period}':df[f'fisher{period}'] for period in periods}\n",
    "))\n",
    "# Create a new figure\n",
    "price_p = figure(#x_axis_type=\"datetime\", \n",
    "            width=1500, height=450, \n",
    "            title=\"E-Mini Nasdaq 100\",\n",
    "            # x_range=DataRange1d(),\n",
    "            background_fill_color=\"#3b3b3b\",\n",
    "            border_fill_color=\"white\")\n",
    "price_p.xaxis.major_label_orientation = pi/4\n",
    "price_p.grid.grid_line_alpha=0.3\n",
    "\n",
    "inc = df['close'] > df['open'] # green candels\n",
    "dec = df['open'] > df['close'] # red candels\n",
    "w = 1\n",
    "\n",
    "# Render the candlestick chart\n",
    "price_p.segment(x0='idx', y0='high', x1='idx', y1='low', color=\"white\", source=source)\n",
    "price_p.vbar(x=df.index[inc], top=df['open'][inc], bottom=df['close'][inc], width=w, fill_color=\"#76f522\", line_color=\"white\")\n",
    "price_p.vbar(x=df.index[dec], top=df['open'][dec], bottom=df['close'][dec], width=w, fill_color=\"#F2583E\", line_color=\"white\")\n",
    "\n",
    "# Format the y-axis tick labels\n",
    "price_p.yaxis[0].formatter = NumeralTickFormatter(format=\"$0,000.00\")\n",
    "price_p.yaxis[0].axis_line_color = \"white\"\n",
    "price_p.yaxis[0].major_tick_line_color = \"white\"\n",
    "price_p.yaxis[0].minor_tick_line_color = \"white\"\n",
    "# price_p.toolbar.active_scroll = p.select_one(WheelZoomTool)\n",
    "\n",
    "# map dataframe indices to date strings and use as label overrides\n",
    "price_p.xaxis.major_label_overrides = {\n",
    "    i: date.strftime('%d') for i, date in enumerate(df[\"datetime\"])\n",
    "}\n",
    "price_p.xaxis.bounds = (0, df['datetime'].values[-1])\n",
    "\n",
    "\n",
    "# fisher rande excluding -inf and +inf\n",
    "# fisher_min = df[df['fisher9']>df['fisher9'].min()]['fisher9'].min()\n",
    "# fisher_max = df[df['fisher9']<df['fisher9'].max()]['fisher9'].max()\n",
    "\n",
    "# Create a new figure for the Fisher Transform Indicator\n",
    "fisher_p = figure(#x_axis_type=\"datetime\",\n",
    "                 width=1500, height=300, \n",
    "                 title=f\"Fisher Transform ({period})\",\n",
    "                 x_range=price_p.x_range,\n",
    "                 background_fill_color=\"#3b3b3b\",\n",
    "                 border_fill_color=\"white\")\n",
    "\n",
    "# Add a second y-axis for the Fisher Transform values\n",
    "# p.extra_y_ranges = {\"fisher\": Range1d(start=fisher_min*2, end=fisher_max*2)}\n",
    "# p.add_layout(LinearAxis(y_range_name=\"fisher\", axis_label=\"Fisher Transform\"), 'right')\n",
    "\n",
    "# Render the Fisher Transform Indicator on the second y-axis\n",
    "# p.plot(x='date', y='fisher', color=\"#FF9F1C\", line_width=2, y_range_name=\"fisher\", source=source)\n",
    "# for i, period in enumerate(periods):\n",
    "#    fisher_p.multi_line(x='idxs', y=f'fisher{period}', color=, line_width=2, source=fisher_source)\n",
    "fisher_p.multi_line(xs='idxs', ys=f'fishers', color='colors', line_width=2, source=fisher_source)\n",
    "# Add a second y-axis for the Fisher Transform values\n",
    "# fisher_p.add_layout(LinearAxis(y_range_name=\"fisher\", axis_label=\"Fisher Transform\", axis_line_color=\"white\", major_tick_line_color=\"white\", minor_tick_line_color=\"white\"), 'left')\n",
    "fisher_p.add_tools(WheelZoomTool(dimensions=\"width\"))\n",
    "\n",
    "# hover_tool = HoverTool(tooltips=[(\"Fisher Transform\", f\"@fisher{period}\") for i, period in enumerate(periods)], mode=\"vline\")\n",
    "hover_tool = HoverTool(show_arrow=False, line_policy='next',tooltips=[('', \"$swatch:colors\"),('period','@periods')])\n",
    "\n",
    "fisher_p.add_tools(hover_tool)\n",
    "# map dataframe indices to date strings and use as label overrides\n",
    "fisher_p.xaxis.major_label_overrides = {\n",
    "    i: date.strftime('%d') for i, date in enumerate(df[\"datetime\"])\n",
    "}\n",
    "# fisher_p.xaxis.bounds = (0, df['datetime'].values[-1])\n",
    "\n",
    "\n",
    "# Set the gridplot\n",
    "grid = gridplot([[price_p], [fisher_p]])\n",
    "\n",
    "# Show the plot\n",
    "output_file(\"./chart.html\")\n",
    "show(grid)"
   ]
  },
  {
   "cell_type": "code",
   "execution_count": 153,
   "metadata": {},
   "outputs": [],
   "source": [
    "output_file"
   ]
  },
  {
   "cell_type": "code",
   "execution_count": 54,
   "metadata": {},
   "outputs": [],
   "source": [
    "r = c.search_instruments('.*NDX.*',client.Client.Instrument.Projection.SYMBOL_REGEX)\n",
    "assert r.status_code == 200, r.raise_for_status()\n"
   ]
  },
  {
   "cell_type": "code",
   "execution_count": 34,
   "metadata": {},
   "outputs": [],
   "source": [
    "r = c.search_instruments('.*NASDAQ.*',client.Client.Instrument.Projection.DESC_REGEX)\n",
    "assert r.status_code == 200, r.raise_for_status()\n"
   ]
  },
  {
   "cell_type": "code",
   "execution_count": 55,
   "metadata": {},
   "outputs": [],
   "source": [
    "o = r.json()"
   ]
  },
  {
   "cell_type": "code",
   "execution_count": null,
   "metadata": {},
   "outputs": [],
   "source": [
    "for i, (k, v) in enumerate(o.items()):\n",
    "    if i > 100: break\n",
    "    if 'description' in v:\n",
    "        if '100' in v['description'] and v['assetType'] == 'INDEX':\n",
    "            print(v)\n",
    "            # print(v['symbol'], v['description'])\n",
    "    # break"
   ]
  }
 ],
 "metadata": {
  "kernelspec": {
   "display_name": "Python 3",
   "language": "python",
   "name": "python3"
  },
  "language_info": {
   "codemirror_mode": {
    "name": "ipython",
    "version": 3
   },
   "file_extension": ".py",
   "mimetype": "text/x-python",
   "name": "python",
   "nbconvert_exporter": "python",
   "pygments_lexer": "ipython3",
   "version": "3.9.0"
  },
  "orig_nbformat": 4
 },
 "nbformat": 4,
 "nbformat_minor": 2
}
