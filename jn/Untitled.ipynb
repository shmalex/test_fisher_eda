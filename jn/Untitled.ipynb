{
 "cells": [
  {
   "cell_type": "code",
   "execution_count": 1,
   "id": "f5ab5354",
   "metadata": {},
   "outputs": [],
   "source": [
    "import clr"
   ]
  },
  {
   "cell_type": "code",
   "execution_count": 20,
   "id": "9cb5f784",
   "metadata": {},
   "outputs": [],
   "source": [
    "import clr\n",
    "clr.AddReference(\"System\")\n",
    "clr.AddReference(\"System.Core\")\n",
    "clr.AddReference(\"NinjaTrader.Client\")\n",
    "clr.AddReference(\"NinjaTrader.Core\")\n",
    "import NinjaTrader.Client as nt\n",
    "import NinjaTrader.Core as ntc\n",
    "from datetime import datetime, timedelta\n",
    "\n",
    "# Connect to the NinjaTrader platform\n",
    "client = nt.Client()\n",
    "client.IsConnected = True"
   ]
  },
  {
   "cell_type": "code",
   "execution_count": 21,
   "id": "1aef8431",
   "metadata": {},
   "outputs": [
    {
     "ename": "XamlParseException",
     "evalue": "Provide value on 'System.Windows.Baml2006.TypeConverterMarkupExtension' threw an exception. ---> System.IO.IOException: Cannot locate resource 'ninjatrader.ico'.\r\n   at MS.Internal.AppModel.ResourcePart.GetStreamCore(FileMode mode, FileAccess access)\r\n   at System.IO.Packaging.PackagePart.GetStream(FileMode mode, FileAccess access)\r\n   at System.IO.Packaging.PackWebResponse.CachedResponse.GetResponseStream()\r\n   at System.IO.Packaging.PackWebResponse.get_ContentType()\r\n   at System.Windows.Media.Imaging.BitmapDecoder.SetupDecoderFromUriOrStream(Uri uri, Stream stream, BitmapCacheOption cacheOption, Guid& clsId, Boolean& isOriginalWritable, Stream& uriStream, UnmanagedMemoryStream& unmanagedMemoryStream, SafeFileHandle& safeFilehandle)\r\n   at System.Windows.Media.Imaging.BitmapDecoder.CreateFromUriOrStream(Uri baseUri, Uri uri, Stream stream, BitmapCreateOptions createOptions, BitmapCacheOption cacheOption, RequestCachePolicy uriCachePolicy, Boolean insertInDecoderCache)\r\n   at System.Windows.Media.Imaging.BitmapFrame.CreateFromUriOrStream(Uri baseUri, Uri uri, Stream stream, BitmapCreateOptions createOptions, BitmapCacheOption cacheOption, RequestCachePolicy uriCachePolicy)\r\n   at System.Windows.Media.ImageSourceConverter.ConvertFrom(ITypeDescriptorContext context, CultureInfo culture, Object value)\r\n   at MS.Internal.Xaml.Runtime.ClrObjectRuntime.CallProvideValue(MarkupExtension me, IServiceProvider serviceProvider)\r\n   --- End of inner exception stack trace ---\r\n   at System.Windows.Markup.XamlReader.RewrapException(Exception e, IXamlLineInfo lineInfo, Uri baseUri)\r\n   at System.Windows.Markup.WpfXamlLoader.Load(XamlReader xamlReader, IXamlObjectWriterFactory writerFactory, Boolean skipJournaledProperties, Object rootObject, XamlObjectWriterSettings settings, Uri baseUri)\r\n   at System.Windows.Markup.WpfXamlLoader.LoadBaml(XamlReader xamlReader, Boolean skipJournaledProperties, Object rootObject, XamlAccessLevel accessLevel, Uri baseUri)\r\n   at System.Windows.Markup.XamlReader.LoadBaml(Stream stream, ParserContext parserContext, Object parent, Boolean closeStream)",
     "output_type": "error",
     "traceback": [
      "\u001b[1;31m---------------------------------------------------------------------------\u001b[0m",
      "\u001b[1;31mIOException\u001b[0m                               Traceback (most recent call last)",
      "\u001b[1;31mIOException\u001b[0m: Cannot locate resource 'ninjatrader.ico'.\r\n   at MS.Internal.AppModel.ResourcePart.GetStreamCore(FileMode mode, FileAccess access)\r\n   at System.IO.Packaging.PackagePart.GetStream(FileMode mode, FileAccess access)\r\n   at System.IO.Packaging.PackWebResponse.CachedResponse.GetResponseStream()\r\n   at System.IO.Packaging.PackWebResponse.get_ContentType()\r\n   at System.Windows.Media.Imaging.BitmapDecoder.SetupDecoderFromUriOrStream(Uri uri, Stream stream, BitmapCacheOption cacheOption, Guid& clsId, Boolean& isOriginalWritable, Stream& uriStream, UnmanagedMemoryStream& unmanagedMemoryStream, SafeFileHandle& safeFilehandle)\r\n   at System.Windows.Media.Imaging.BitmapDecoder.CreateFromUriOrStream(Uri baseUri, Uri uri, Stream stream, BitmapCreateOptions createOptions, BitmapCacheOption cacheOption, RequestCachePolicy uriCachePolicy, Boolean insertInDecoderCache)\r\n   at System.Windows.Media.Imaging.BitmapFrame.CreateFromUriOrStream(Uri baseUri, Uri uri, Stream stream, BitmapCreateOptions createOptions, BitmapCacheOption cacheOption, RequestCachePolicy uriCachePolicy)\r\n   at System.Windows.Media.ImageSourceConverter.ConvertFrom(ITypeDescriptorContext context, CultureInfo culture, Object value)\r\n   at MS.Internal.Xaml.Runtime.ClrObjectRuntime.CallProvideValue(MarkupExtension me, IServiceProvider serviceProvider)",
      "\nThe above exception was the direct cause of the following exception:\n",
      "\u001b[1;31mXamlParseException\u001b[0m                        Traceback (most recent call last)",
      "Cell \u001b[1;32mIn[21], line 1\u001b[0m\n\u001b[1;32m----> 1\u001b[0m instrument \u001b[38;5;241m=\u001b[39m \u001b[43mnt\u001b[49m\u001b[38;5;241;43m.\u001b[39;49m\u001b[43mQueryInstrument\u001b[49m\u001b[43m(\u001b[49m\u001b[43m)\u001b[49m\n",
      "\u001b[1;31mXamlParseException\u001b[0m: Provide value on 'System.Windows.Baml2006.TypeConverterMarkupExtension' threw an exception. ---> System.IO.IOException: Cannot locate resource 'ninjatrader.ico'.\r\n   at MS.Internal.AppModel.ResourcePart.GetStreamCore(FileMode mode, FileAccess access)\r\n   at System.IO.Packaging.PackagePart.GetStream(FileMode mode, FileAccess access)\r\n   at System.IO.Packaging.PackWebResponse.CachedResponse.GetResponseStream()\r\n   at System.IO.Packaging.PackWebResponse.get_ContentType()\r\n   at System.Windows.Media.Imaging.BitmapDecoder.SetupDecoderFromUriOrStream(Uri uri, Stream stream, BitmapCacheOption cacheOption, Guid& clsId, Boolean& isOriginalWritable, Stream& uriStream, UnmanagedMemoryStream& unmanagedMemoryStream, SafeFileHandle& safeFilehandle)\r\n   at System.Windows.Media.Imaging.BitmapDecoder.CreateFromUriOrStream(Uri baseUri, Uri uri, Stream stream, BitmapCreateOptions createOptions, BitmapCacheOption cacheOption, RequestCachePolicy uriCachePolicy, Boolean insertInDecoderCache)\r\n   at System.Windows.Media.Imaging.BitmapFrame.CreateFromUriOrStream(Uri baseUri, Uri uri, Stream stream, BitmapCreateOptions createOptions, BitmapCacheOption cacheOption, RequestCachePolicy uriCachePolicy)\r\n   at System.Windows.Media.ImageSourceConverter.ConvertFrom(ITypeDescriptorContext context, CultureInfo culture, Object value)\r\n   at MS.Internal.Xaml.Runtime.ClrObjectRuntime.CallProvideValue(MarkupExtension me, IServiceProvider serviceProvider)\r\n   --- End of inner exception stack trace ---\r\n   at System.Windows.Markup.XamlReader.RewrapException(Exception e, IXamlLineInfo lineInfo, Uri baseUri)\r\n   at System.Windows.Markup.WpfXamlLoader.Load(XamlReader xamlReader, IXamlObjectWriterFactory writerFactory, Boolean skipJournaledProperties, Object rootObject, XamlObjectWriterSettings settings, Uri baseUri)\r\n   at System.Windows.Markup.WpfXamlLoader.LoadBaml(XamlReader xamlReader, Boolean skipJournaledProperties, Object rootObject, XamlAccessLevel accessLevel, Uri baseUri)\r\n   at System.Windows.Markup.XamlReader.LoadBaml(Stream stream, ParserContext parserContext, Object parent, Boolean closeStream)"
     ]
    }
   ],
   "source": [
    "instrument = nt.QueryInstrument()"
   ]
  },
  {
   "cell_type": "code",
   "execution_count": 11,
   "id": "094b61cb",
   "metadata": {},
   "outputs": [
    {
     "ename": "AttributeError",
     "evalue": "type object 'QueryInstrument' has no attribute 'GetInstrument'",
     "output_type": "error",
     "traceback": [
      "\u001b[1;31m---------------------------------------------------------------------------\u001b[0m",
      "\u001b[1;31mAttributeError\u001b[0m                            Traceback (most recent call last)",
      "Cell \u001b[1;32mIn[11], line 15\u001b[0m\n\u001b[0;32m     12\u001b[0m client\u001b[38;5;241m.\u001b[39mIsConnected \u001b[38;5;241m=\u001b[39m \u001b[38;5;28;01mTrue\u001b[39;00m\n\u001b[0;32m     14\u001b[0m \u001b[38;5;66;03m# Set the instrument and data range\u001b[39;00m\n\u001b[1;32m---> 15\u001b[0m instrument \u001b[38;5;241m=\u001b[39m \u001b[43mnt\u001b[49m\u001b[38;5;241;43m.\u001b[39;49m\u001b[43mQueryInstrument\u001b[49m\u001b[38;5;241;43m.\u001b[39;49m\u001b[43mGetInstrument\u001b[49m(\u001b[38;5;124m\"\u001b[39m\u001b[38;5;124mMNQ 06-23\u001b[39m\u001b[38;5;124m\"\u001b[39m)\n\u001b[0;32m     16\u001b[0m start_date \u001b[38;5;241m=\u001b[39m datetime\u001b[38;5;241m.\u001b[39mnow() \u001b[38;5;241m-\u001b[39m timedelta(days\u001b[38;5;241m=\u001b[39m\u001b[38;5;241m7\u001b[39m)\n\u001b[0;32m     17\u001b[0m end_date \u001b[38;5;241m=\u001b[39m datetime\u001b[38;5;241m.\u001b[39mnow()\n",
      "\u001b[1;31mAttributeError\u001b[0m: type object 'QueryInstrument' has no attribute 'GetInstrument'"
     ]
    }
   ],
   "source": [
    "# Set the instrument and data range\n",
    "instrument = nt.QueryInstrument.GetInstrument(\"MNQ 06-23\")\n",
    "start_date = datetime.now() - timedelta(days=7)\n",
    "end_date = datetime.now()\n",
    "\n",
    "# Download the data by minute\n",
    "data = client.RequestHistoricalBars(\n",
    "    instrument,\n",
    "    start_date,\n",
    "    end_date,\n",
    "    ntc.MarketDataType.Last,\n",
    "    ntc.BarType.Minute,\n",
    "    1\n",
    ")\n",
    "\n",
    "# Print the data\n",
    "for bar in data:\n",
    "    print(bar.TimeStamp, bar.Close)"
   ]
  },
  {
   "cell_type": "code",
   "execution_count": 17,
   "id": "ef613edc",
   "metadata": {},
   "outputs": [],
   "source": [
    "start_date = datetime.now() - timedelta(days=7)\n",
    "end_date = datetime.now()"
   ]
  },
  {
   "cell_type": "code",
   "execution_count": 13,
   "id": "f82f2bdc",
   "metadata": {},
   "outputs": [
    {
     "data": {
      "text/plain": [
       "NinjaTrader.Client.QueryInstrument"
      ]
     },
     "execution_count": 13,
     "metadata": {},
     "output_type": "execute_result"
    }
   ],
   "source": [
    "nt.QueryInstrument"
   ]
  },
  {
   "cell_type": "code",
   "execution_count": 14,
   "id": "c59adbdf",
   "metadata": {
    "scrolled": false
   },
   "outputs": [
    {
     "data": {
      "text/plain": [
       "clr._internal.CLRMetatype"
      ]
     },
     "execution_count": 14,
     "metadata": {},
     "output_type": "execute_result"
    }
   ],
   "source": [
    "type(nt.QueryInstrument)"
   ]
  },
  {
   "cell_type": "code",
   "execution_count": 16,
   "id": "70e19bfe",
   "metadata": {},
   "outputs": [
    {
     "name": "stdout",
     "output_type": "stream",
     "text": [
      "Object `clinet.QueryInstrument` not found.\n"
     ]
    }
   ],
   "source": [
    "?clinet.QueryInstrument"
   ]
  },
  {
   "cell_type": "code",
   "execution_count": 18,
   "id": "7be25c40",
   "metadata": {},
   "outputs": [
    {
     "ename": "AttributeError",
     "evalue": "'Client' object has no attribute 'RequestHistoricalBars'",
     "output_type": "error",
     "traceback": [
      "\u001b[1;31m---------------------------------------------------------------------------\u001b[0m",
      "\u001b[1;31mAttributeError\u001b[0m                            Traceback (most recent call last)",
      "Cell \u001b[1;32mIn[18], line 1\u001b[0m\n\u001b[1;32m----> 1\u001b[0m data \u001b[38;5;241m=\u001b[39m \u001b[43mclient\u001b[49m\u001b[38;5;241;43m.\u001b[39;49m\u001b[43mRequestHistoricalBars\u001b[49m(\n\u001b[0;32m      2\u001b[0m     instrument,\n\u001b[0;32m      3\u001b[0m     start_date,\n\u001b[0;32m      4\u001b[0m     end_date,\n\u001b[0;32m      5\u001b[0m     ntc\u001b[38;5;241m.\u001b[39mMarketDataType\u001b[38;5;241m.\u001b[39mLast,\n\u001b[0;32m      6\u001b[0m     ntc\u001b[38;5;241m.\u001b[39mBarType\u001b[38;5;241m.\u001b[39mMinute,\n\u001b[0;32m      7\u001b[0m     \u001b[38;5;241m1\u001b[39m\n\u001b[0;32m      8\u001b[0m )\n",
      "\u001b[1;31mAttributeError\u001b[0m: 'Client' object has no attribute 'RequestHistoricalBars'"
     ]
    }
   ],
   "source": [
    "data = client.RequestHistoricalBars(\n",
    "    instrument,\n",
    "    start_date,\n",
    "    end_date,\n",
    "    ntc.MarketDataType.Last,\n",
    "    ntc.BarType.Minute,\n",
    "    1\n",
    ")"
   ]
  },
  {
   "cell_type": "code",
   "execution_count": 15,
   "id": "aff10684",
   "metadata": {},
   "outputs": [
    {
     "data": {
      "text/plain": [
       "['Ask',\n",
       " 'AskPlayback',\n",
       " 'AvgEntryPrice',\n",
       " 'AvgFillPrice',\n",
       " 'Bid',\n",
       " 'BidPlayback',\n",
       " 'BuyingPower',\n",
       " 'CashValue',\n",
       " 'Command',\n",
       " 'ConfirmOrders',\n",
       " 'Connected',\n",
       " 'Dispose',\n",
       " 'Equals',\n",
       " 'Filled',\n",
       " 'Finalize',\n",
       " 'GetDouble',\n",
       " 'GetHashCode',\n",
       " 'GetInt',\n",
       " 'GetString',\n",
       " 'GetType',\n",
       " 'Last',\n",
       " 'LastPlayback',\n",
       " 'MarketData',\n",
       " 'MarketPosition',\n",
       " 'MemberwiseClone',\n",
       " 'NewOrderId',\n",
       " 'OrderStatus',\n",
       " 'Orders',\n",
       " 'Overloads',\n",
       " 'QueryInstrument',\n",
       " 'RealizedPnL',\n",
       " 'ReferenceEquals',\n",
       " 'SetAllocReturnString',\n",
       " 'SetMaxReturnStringLength',\n",
       " 'SetUp',\n",
       " 'StopOrders',\n",
       " 'Strategies',\n",
       " 'StrategyPosition',\n",
       " 'SubscribeMarketData',\n",
       " 'TargetOrders',\n",
       " 'TearDown',\n",
       " 'ToString',\n",
       " 'UnsubscribeMarketData',\n",
       " '__class__',\n",
       " '__delattr__',\n",
       " '__dir__',\n",
       " '__doc__',\n",
       " '__eq__',\n",
       " '__format__',\n",
       " '__ge__',\n",
       " '__getattribute__',\n",
       " '__gt__',\n",
       " '__hash__',\n",
       " '__init__',\n",
       " '__init_subclass__',\n",
       " '__le__',\n",
       " '__lt__',\n",
       " '__module__',\n",
       " '__ne__',\n",
       " '__new__',\n",
       " '__overloads__',\n",
       " '__reduce__',\n",
       " '__reduce_ex__',\n",
       " '__repr__',\n",
       " '__setattr__',\n",
       " '__sizeof__',\n",
       " '__str__',\n",
       " '__subclasshook__']"
      ]
     },
     "execution_count": 15,
     "metadata": {},
     "output_type": "execute_result"
    }
   ],
   "source": [
    "dir(client)"
   ]
  },
  {
   "cell_type": "code",
   "execution_count": 6,
   "id": "c7fa0ca3",
   "metadata": {},
   "outputs": [],
   "source": [
    "client = nt.Client()\n",
    "client.IsConnected = True"
   ]
  },
  {
   "cell_type": "code",
   "execution_count": null,
   "id": "3ac6837b",
   "metadata": {},
   "outputs": [],
   "source": []
  }
 ],
 "metadata": {
  "kernelspec": {
   "display_name": "Python 3 (ipykernel)",
   "language": "python",
   "name": "python3"
  },
  "language_info": {
   "codemirror_mode": {
    "name": "ipython",
    "version": 3
   },
   "file_extension": ".py",
   "mimetype": "text/x-python",
   "name": "python",
   "nbconvert_exporter": "python",
   "pygments_lexer": "ipython3",
   "version": "3.9.0"
  }
 },
 "nbformat": 4,
 "nbformat_minor": 5
}
