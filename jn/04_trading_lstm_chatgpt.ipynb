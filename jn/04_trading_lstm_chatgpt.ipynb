{
 "cells": [
  {
   "cell_type": "code",
   "execution_count": 1,
   "id": "c7806de7",
   "metadata": {
    "ExecuteTime": {
     "end_time": "2023-11-13T21:12:36.107334Z",
     "start_time": "2023-11-13T21:12:35.028263Z"
    }
   },
   "outputs": [],
   "source": [
    "import torch\n",
    "import torch.nn as nn\n",
    "import pandas as pd\n",
    "import numpy as np\n",
    "from sklearn.model_selection import TimeSeriesSplit\n",
    "from sklearn.preprocessing import StandardScaler\n",
    "from sklearn.metrics import mean_squared_error\n",
    "import matplotlib.pyplot as plt\n"
   ]
  },
  {
   "cell_type": "code",
   "execution_count": 2,
   "id": "5fb6308c",
   "metadata": {
    "ExecuteTime": {
     "end_time": "2023-11-13T21:12:36.116226Z",
     "start_time": "2023-11-13T21:12:36.109368Z"
    }
   },
   "outputs": [],
   "source": [
    "# Create a simple LSTM model\n",
    "class LSTM(nn.Module):\n",
    "    def __init__(self, input_size, hidden_size, num_layers, output_size, dropout_rate=0.2):\n",
    "        super(LSTM, self).__init__()\n",
    "        self.hidden_size = hidden_size\n",
    "        self.num_layers = num_layers\n",
    "\n",
    "        self.lstm = nn.LSTM(input_size, hidden_size, num_layers, batch_first=True)\n",
    "        self.dropout = nn.Dropout(dropout_rate)\n",
    "        self.fc = nn.Linear(hidden_size, output_size)\n",
    "\n",
    "    def forward(self, x):\n",
    "        h0 = torch.zeros(self.num_layers, x.size(0), self.hidden_size).to(device)\n",
    "        c0 = torch.zeros(self.num_layers, x.size(0), self.hidden_size).to(device)\n",
    "\n",
    "        out, _ = self.lstm(x, (h0, c0))\n",
    "        out = self.dropout(out[:, -1, :])  # Take only the output of the last time step\n",
    "        out = self.fc(out)\n",
    "        return out\n"
   ]
  },
  {
   "cell_type": "code",
   "execution_count": 3,
   "id": "18a2a065",
   "metadata": {
    "ExecuteTime": {
     "end_time": "2023-11-13T21:12:36.218405Z",
     "start_time": "2023-11-13T21:12:36.211165Z"
    }
   },
   "outputs": [],
   "source": [
    "# Prepare data for training\n",
    "def create_sequences(data, seq_length):\n",
    "    sequences = []\n",
    "    targets = []\n",
    "    for i in range(len(data) - seq_length):\n",
    "        seq = data[i:i+seq_length]\n",
    "        target = data[i+seq_length:i+seq_length+1]\n",
    "        sequences.append(seq)\n",
    "        targets.append(target)\n",
    "    return np.array(sequences), np.array(targets)"
   ]
  },
  {
   "cell_type": "code",
   "execution_count": 4,
   "id": "f28ffa77",
   "metadata": {
    "ExecuteTime": {
     "end_time": "2023-11-13T21:12:37.263817Z",
     "start_time": "2023-11-13T21:12:37.151811Z"
    }
   },
   "outputs": [
    {
     "data": {
      "text/html": [
       "<div>\n",
       "<style scoped>\n",
       "    .dataframe tbody tr th:only-of-type {\n",
       "        vertical-align: middle;\n",
       "    }\n",
       "\n",
       "    .dataframe tbody tr th {\n",
       "        vertical-align: top;\n",
       "    }\n",
       "\n",
       "    .dataframe thead th {\n",
       "        text-align: right;\n",
       "    }\n",
       "</style>\n",
       "<table border=\"1\" class=\"dataframe\">\n",
       "  <thead>\n",
       "    <tr style=\"text-align: right;\">\n",
       "      <th></th>\n",
       "      <th>date</th>\n",
       "      <th>open</th>\n",
       "      <th>high</th>\n",
       "      <th>low</th>\n",
       "      <th>close</th>\n",
       "      <th>vol</th>\n",
       "      <th>ft</th>\n",
       "      <th>action</th>\n",
       "    </tr>\n",
       "  </thead>\n",
       "  <tbody>\n",
       "    <tr>\n",
       "      <th>0</th>\n",
       "      <td>2023-10-02 22:00:38</td>\n",
       "      <td>14992.00</td>\n",
       "      <td>14992.25</td>\n",
       "      <td>14986.50</td>\n",
       "      <td>14989.50</td>\n",
       "      <td>500</td>\n",
       "      <td>-0.342828</td>\n",
       "      <td>0</td>\n",
       "    </tr>\n",
       "    <tr>\n",
       "      <th>1</th>\n",
       "      <td>2023-10-02 22:03:41</td>\n",
       "      <td>14989.75</td>\n",
       "      <td>14992.50</td>\n",
       "      <td>14988.25</td>\n",
       "      <td>14990.50</td>\n",
       "      <td>500</td>\n",
       "      <td>-0.062081</td>\n",
       "      <td>0</td>\n",
       "    </tr>\n",
       "    <tr>\n",
       "      <th>2</th>\n",
       "      <td>2023-10-02 22:08:04</td>\n",
       "      <td>14991.00</td>\n",
       "      <td>14992.75</td>\n",
       "      <td>14989.50</td>\n",
       "      <td>14992.00</td>\n",
       "      <td>500</td>\n",
       "      <td>0.396141</td>\n",
       "      <td>0</td>\n",
       "    </tr>\n",
       "    <tr>\n",
       "      <th>3</th>\n",
       "      <td>2023-10-02 22:13:26</td>\n",
       "      <td>14992.00</td>\n",
       "      <td>14995.00</td>\n",
       "      <td>14987.75</td>\n",
       "      <td>14989.75</td>\n",
       "      <td>500</td>\n",
       "      <td>0.204056</td>\n",
       "      <td>0</td>\n",
       "    </tr>\n",
       "    <tr>\n",
       "      <th>4</th>\n",
       "      <td>2023-10-02 22:14:44</td>\n",
       "      <td>14989.75</td>\n",
       "      <td>14999.00</td>\n",
       "      <td>14989.75</td>\n",
       "      <td>14997.50</td>\n",
       "      <td>500</td>\n",
       "      <td>0.449363</td>\n",
       "      <td>0</td>\n",
       "    </tr>\n",
       "  </tbody>\n",
       "</table>\n",
       "</div>"
      ],
      "text/plain": [
       "                  date      open      high       low     close  vol        ft  \\\n",
       "0  2023-10-02 22:00:38  14992.00  14992.25  14986.50  14989.50  500 -0.342828   \n",
       "1  2023-10-02 22:03:41  14989.75  14992.50  14988.25  14990.50  500 -0.062081   \n",
       "2  2023-10-02 22:08:04  14991.00  14992.75  14989.50  14992.00  500  0.396141   \n",
       "3  2023-10-02 22:13:26  14992.00  14995.00  14987.75  14989.75  500  0.204056   \n",
       "4  2023-10-02 22:14:44  14989.75  14999.00  14989.75  14997.50  500  0.449363   \n",
       "\n",
       "   action  \n",
       "0       0  \n",
       "1       0  \n",
       "2       0  \n",
       "3       0  \n",
       "4       0  "
      ]
     },
     "execution_count": 4,
     "metadata": {},
     "output_type": "execute_result"
    }
   ],
   "source": [
    "df = pd.read_csv('../data/MNQ DEC23.Last-500-Volume-Action.txt')\n",
    "df.head()"
   ]
  },
  {
   "cell_type": "code",
   "execution_count": 7,
   "id": "c2c1592a",
   "metadata": {
    "ExecuteTime": {
     "end_time": "2023-11-13T21:12:49.701971Z",
     "start_time": "2023-11-13T21:12:49.692106Z"
    }
   },
   "outputs": [],
   "source": [
    "# Preprocess the data\n",
    "scaler = StandardScaler()\n",
    "prices_scaled = scaler.fit_transform(df[['close']].values)"
   ]
  },
  {
   "cell_type": "code",
   "execution_count": 8,
   "id": "2b5e2060",
   "metadata": {
    "ExecuteTime": {
     "end_time": "2023-11-13T21:12:50.974558Z",
     "start_time": "2023-11-13T21:12:50.834246Z"
    }
   },
   "outputs": [],
   "source": [
    "seq_length = 52\n",
    "X, y = create_sequences(prices_scaled, seq_length)\n",
    "\n",
    "# Convert to PyTorch tensors\n",
    "X = torch.tensor(X, dtype=torch.float32)\n",
    "y = torch.tensor(y, dtype=torch.float32)"
   ]
  },
  {
   "cell_type": "code",
   "execution_count": 9,
   "id": "556bd38f",
   "metadata": {
    "ExecuteTime": {
     "end_time": "2023-11-13T21:12:55.052426Z",
     "start_time": "2023-11-13T21:12:55.046267Z"
    }
   },
   "outputs": [
    {
     "data": {
      "text/plain": [
       "device(type='cuda')"
      ]
     },
     "execution_count": 9,
     "metadata": {},
     "output_type": "execute_result"
    }
   ],
   "source": [
    "# Configure device\n",
    "device = torch.device('cuda' if torch.cuda.is_available() else 'cpu')\n",
    "device"
   ]
  },
  {
   "cell_type": "code",
   "execution_count": 10,
   "id": "9f8f3cfa",
   "metadata": {
    "ExecuteTime": {
     "end_time": "2023-11-13T21:13:08.438868Z",
     "start_time": "2023-11-13T21:13:06.062566Z"
    }
   },
   "outputs": [],
   "source": [
    "# Hyperparameters\n",
    "input_size = 1\n",
    "hidden_size = 50\n",
    "num_layers = 2\n",
    "output_size = 1\n",
    "num_epochs = 100\n",
    "learning_rate = 0.001\n",
    "batch_size = 128\n",
    "\n",
    "# Initialize model, loss function, and optimizer\n",
    "model = LSTM(input_size=input_size, hidden_size=hidden_size, num_layers=num_layers, output_size=output_size)\n",
    "model.to(device)\n",
    "criterion = nn.MSELoss()\n",
    "optimizer = torch.optim.Adam(model.parameters(), lr=learning_rate)\n",
    "\n",
    "# Time series cross-validation\n",
    "tscv = TimeSeriesSplit(n_splits=5)"
   ]
  },
  {
   "cell_type": "code",
   "execution_count": 11,
   "id": "42a9ebe8",
   "metadata": {
    "ExecuteTime": {
     "end_time": "2023-11-13T21:13:13.680114Z",
     "start_time": "2023-11-13T21:13:13.676456Z"
    }
   },
   "outputs": [],
   "source": [
    "import tqdm"
   ]
  },
  {
   "cell_type": "code",
   "execution_count": 12,
   "id": "1c87b4da",
   "metadata": {
    "ExecuteTime": {
     "end_time": "2023-11-13T21:32:15.305257Z",
     "start_time": "2023-11-13T21:13:14.912734Z"
    }
   },
   "outputs": [
    {
     "name": "stderr",
     "output_type": "stream",
     "text": [
      "/home/shmalex/.conda/envs/py37/lib/python3.7/site-packages/ipykernel_launcher.py:3: TqdmDeprecationWarning: This function will be removed in tqdm==5.0.0\n",
      "Please use `tqdm.notebook.tqdm` instead of `tqdm.tqdm_notebook`\n",
      "  This is separate from the ipykernel package so we can avoid doing imports until\n"
     ]
    },
    {
     "data": {
      "application/vnd.jupyter.widget-view+json": {
       "model_id": "39f42152004842f6b5754456d0c5a084",
       "version_major": 2,
       "version_minor": 0
      },
      "text/plain": [
       "HBox(children=(HTML(value=''), FloatProgress(value=1.0, bar_style='info', layout=Layout(width='20px'), max=1.0…"
      ]
     },
     "metadata": {},
     "output_type": "display_data"
    },
    {
     "name": "stderr",
     "output_type": "stream",
     "text": [
      "/home/shmalex/.conda/envs/py37/lib/python3.7/site-packages/ipykernel_launcher.py:11: TqdmDeprecationWarning: This function will be removed in tqdm==5.0.0\n",
      "Please use `tqdm.notebook.tqdm` instead of `tqdm.tqdm_notebook`\n",
      "  # This is added back by InteractiveShellApp.init_path()\n"
     ]
    },
    {
     "data": {
      "application/vnd.jupyter.widget-view+json": {
       "model_id": "",
       "version_major": 2,
       "version_minor": 0
      },
      "text/plain": [
       "HBox(children=(HTML(value=''), FloatProgress(value=0.0), HTML(value='')))"
      ]
     },
     "metadata": {},
     "output_type": "display_data"
    },
    {
     "name": "stderr",
     "output_type": "stream",
     "text": [
      "/home/shmalex/.conda/envs/py37/lib/python3.7/site-packages/torch/nn/modules/loss.py:432: UserWarning: Using a target size (torch.Size([128, 1, 1])) that is different to the input size (torch.Size([128, 1])). This will likely lead to incorrect results due to broadcasting. Please ensure they have the same size.\n",
      "  return F.mse_loss(input, target, reduction=self.reduction)\n",
      "/home/shmalex/.conda/envs/py37/lib/python3.7/site-packages/torch/nn/modules/loss.py:432: UserWarning: Using a target size (torch.Size([61, 1, 1])) that is different to the input size (torch.Size([61, 1])). This will likely lead to incorrect results due to broadcasting. Please ensure they have the same size.\n",
      "  return F.mse_loss(input, target, reduction=self.reduction)\n"
     ]
    },
    {
     "name": "stdout",
     "output_type": "stream",
     "text": [
      "Epoch [10/100], Loss: 0.0645\n",
      "Epoch [20/100], Loss: 0.0557\n",
      "Epoch [30/100], Loss: 0.0541\n",
      "Epoch [40/100], Loss: 0.0509\n",
      "Epoch [50/100], Loss: 0.0694\n",
      "Epoch [60/100], Loss: 0.0593\n",
      "Epoch [70/100], Loss: 0.0603\n",
      "Epoch [80/100], Loss: 0.0547\n",
      "Epoch [90/100], Loss: 0.0626\n",
      "Epoch [100/100], Loss: 0.0636\n"
     ]
    },
    {
     "data": {
      "application/vnd.jupyter.widget-view+json": {
       "model_id": "",
       "version_major": 2,
       "version_minor": 0
      },
      "text/plain": [
       "HBox(children=(HTML(value=''), FloatProgress(value=0.0), HTML(value='')))"
      ]
     },
     "metadata": {},
     "output_type": "display_data"
    },
    {
     "name": "stderr",
     "output_type": "stream",
     "text": [
      "/home/shmalex/.conda/envs/py37/lib/python3.7/site-packages/torch/nn/modules/loss.py:432: UserWarning: Using a target size (torch.Size([117, 1, 1])) that is different to the input size (torch.Size([117, 1])). This will likely lead to incorrect results due to broadcasting. Please ensure they have the same size.\n",
      "  return F.mse_loss(input, target, reduction=self.reduction)\n"
     ]
    },
    {
     "name": "stdout",
     "output_type": "stream",
     "text": [
      "Epoch [10/100], Loss: 0.5454\n",
      "Epoch [20/100], Loss: 0.5149\n",
      "Epoch [30/100], Loss: 0.5099\n",
      "Epoch [40/100], Loss: 0.5825\n",
      "Epoch [50/100], Loss: 0.5410\n",
      "Epoch [60/100], Loss: 0.5239\n",
      "Epoch [70/100], Loss: 0.5512\n",
      "Epoch [80/100], Loss: 0.5324\n",
      "Epoch [90/100], Loss: 0.5253\n",
      "Epoch [100/100], Loss: 0.5587\n"
     ]
    },
    {
     "data": {
      "application/vnd.jupyter.widget-view+json": {
       "model_id": "",
       "version_major": 2,
       "version_minor": 0
      },
      "text/plain": [
       "HBox(children=(HTML(value=''), FloatProgress(value=0.0), HTML(value='')))"
      ]
     },
     "metadata": {},
     "output_type": "display_data"
    },
    {
     "name": "stderr",
     "output_type": "stream",
     "text": [
      "/home/shmalex/.conda/envs/py37/lib/python3.7/site-packages/torch/nn/modules/loss.py:432: UserWarning: Using a target size (torch.Size([45, 1, 1])) that is different to the input size (torch.Size([45, 1])). This will likely lead to incorrect results due to broadcasting. Please ensure they have the same size.\n",
      "  return F.mse_loss(input, target, reduction=self.reduction)\n"
     ]
    },
    {
     "name": "stdout",
     "output_type": "stream",
     "text": [
      "Epoch [10/100], Loss: 0.3639\n",
      "Epoch [20/100], Loss: 0.4569\n",
      "Epoch [30/100], Loss: 0.5925\n",
      "Epoch [40/100], Loss: 0.3501\n",
      "Epoch [50/100], Loss: 0.3613\n",
      "Epoch [60/100], Loss: 0.4303\n",
      "Epoch [70/100], Loss: 0.4301\n",
      "Epoch [80/100], Loss: 0.4453\n",
      "Epoch [90/100], Loss: 0.5201\n",
      "Epoch [100/100], Loss: 0.3553\n"
     ]
    },
    {
     "data": {
      "application/vnd.jupyter.widget-view+json": {
       "model_id": "",
       "version_major": 2,
       "version_minor": 0
      },
      "text/plain": [
       "HBox(children=(HTML(value=''), FloatProgress(value=0.0), HTML(value='')))"
      ]
     },
     "metadata": {},
     "output_type": "display_data"
    },
    {
     "name": "stderr",
     "output_type": "stream",
     "text": [
      "/home/shmalex/.conda/envs/py37/lib/python3.7/site-packages/torch/nn/modules/loss.py:432: UserWarning: Using a target size (torch.Size([101, 1, 1])) that is different to the input size (torch.Size([101, 1])). This will likely lead to incorrect results due to broadcasting. Please ensure they have the same size.\n",
      "  return F.mse_loss(input, target, reduction=self.reduction)\n"
     ]
    },
    {
     "name": "stdout",
     "output_type": "stream",
     "text": [
      "Epoch [10/100], Loss: 0.4739\n",
      "Epoch [20/100], Loss: 0.4464\n",
      "Epoch [30/100], Loss: 0.4975\n",
      "Epoch [40/100], Loss: 0.4541\n",
      "Epoch [50/100], Loss: 0.4146\n",
      "Epoch [60/100], Loss: 0.4537\n",
      "Epoch [70/100], Loss: 0.4136\n",
      "Epoch [80/100], Loss: 0.3818\n",
      "Epoch [90/100], Loss: 0.4857\n",
      "Epoch [100/100], Loss: 0.4245\n"
     ]
    },
    {
     "data": {
      "application/vnd.jupyter.widget-view+json": {
       "model_id": "",
       "version_major": 2,
       "version_minor": 0
      },
      "text/plain": [
       "HBox(children=(HTML(value=''), FloatProgress(value=0.0), HTML(value='')))"
      ]
     },
     "metadata": {},
     "output_type": "display_data"
    },
    {
     "name": "stderr",
     "output_type": "stream",
     "text": [
      "/home/shmalex/.conda/envs/py37/lib/python3.7/site-packages/torch/nn/modules/loss.py:432: UserWarning: Using a target size (torch.Size([29, 1, 1])) that is different to the input size (torch.Size([29, 1])). This will likely lead to incorrect results due to broadcasting. Please ensure they have the same size.\n",
      "  return F.mse_loss(input, target, reduction=self.reduction)\n"
     ]
    },
    {
     "name": "stdout",
     "output_type": "stream",
     "text": [
      "Epoch [10/100], Loss: 0.8102\n",
      "Epoch [20/100], Loss: 0.6600\n",
      "Epoch [30/100], Loss: 0.7805\n",
      "Epoch [40/100], Loss: 0.8776\n",
      "Epoch [50/100], Loss: 0.6459\n",
      "Epoch [60/100], Loss: 0.7720\n",
      "Epoch [70/100], Loss: 0.5085\n",
      "Epoch [80/100], Loss: 0.8974\n",
      "Epoch [90/100], Loss: 1.1065\n",
      "Epoch [100/100], Loss: 0.8108\n",
      "\n"
     ]
    }
   ],
   "source": [
    "losses = []\n",
    "# Training loop\n",
    "for train_index, test_index in tqdm.tqdm_notebook(tscv.split(X)):\n",
    "    X_train, X_test = X[train_index], X[test_index]\n",
    "    y_train, y_test = y[train_index], y[test_index]\n",
    "\n",
    "    # Convert to DataLoader for easy batching\n",
    "    train_data = torch.utils.data.TensorDataset(X_train, y_train)\n",
    "    train_loader = torch.utils.data.DataLoader(dataset=train_data, batch_size=batch_size, shuffle=True)\n",
    "\n",
    "    for epoch in tqdm.tqdm_notebook(range(num_epochs), leave=False):\n",
    "        for batch_X, batch_y in train_loader:\n",
    "            batch_X, batch_y = batch_X.to(device), batch_y.to(device)\n",
    "\n",
    "            # Forward pass\n",
    "            outputs = model(batch_X)\n",
    "            loss = criterion(outputs, batch_y)\n",
    "\n",
    "            # Backward and optimize\n",
    "            optimizer.zero_grad()\n",
    "            loss.backward()\n",
    "            optimizer.step()\n",
    "            losses.append(loss.item())\n",
    "\n",
    "        if (epoch+1) % 10 == 0:\n",
    "            print(f'Epoch [{epoch+1}/{num_epochs}], Loss: {loss.item():.4f}')\n"
   ]
  },
  {
   "cell_type": "code",
   "execution_count": 13,
   "id": "19d39b14",
   "metadata": {
    "ExecuteTime": {
     "end_time": "2023-11-13T21:35:13.922804Z",
     "start_time": "2023-11-13T21:35:13.914369Z"
    }
   },
   "outputs": [],
   "source": [
    "X_train, X_test = X[train_index], X[test_index]\n",
    "y_train, y_test = y[train_index], y[test_index]"
   ]
  },
  {
   "cell_type": "code",
   "execution_count": 14,
   "id": "f6b9be05",
   "metadata": {
    "ExecuteTime": {
     "end_time": "2023-11-13T21:35:14.505480Z",
     "start_time": "2023-11-13T21:35:14.266313Z"
    }
   },
   "outputs": [],
   "source": [
    "model.eval()\n",
    "with torch.no_grad():\n",
    "    test_data = torch.utils.data.TensorDataset(X_test, y_test)\n",
    "    test_loader = torch.utils.data.DataLoader(dataset=test_data, batch_size=batch_size, shuffle=False)\n",
    "\n",
    "    predictions = []\n",
    "    for batch_X, batch_y in test_loader:\n",
    "        batch_X, batch_y = batch_X.to(device), batch_y.to(device)\n",
    "        outputs = model(batch_X)\n",
    "        predictions.extend(outputs.cpu().numpy())\n"
   ]
  },
  {
   "cell_type": "code",
   "execution_count": 15,
   "id": "dd73b385",
   "metadata": {
    "ExecuteTime": {
     "end_time": "2023-11-13T21:35:14.966934Z",
     "start_time": "2023-11-13T21:35:14.952256Z"
    }
   },
   "outputs": [],
   "source": [
    "# Inverse transform the predictions\n",
    "predictions = scaler.inverse_transform(predictions)\n",
    "y_test = scaler.inverse_transform(y_test)\n",
    "y_test = y_test.reshape((-1,1))"
   ]
  },
  {
   "cell_type": "code",
   "execution_count": 16,
   "id": "beca9d4d",
   "metadata": {
    "ExecuteTime": {
     "end_time": "2023-11-13T21:35:15.696849Z",
     "start_time": "2023-11-13T21:35:15.690103Z"
    }
   },
   "outputs": [
    {
     "data": {
      "text/plain": [
       "array([[14936.91 ],\n",
       "       [14936.902],\n",
       "       [14936.916],\n",
       "       ...,\n",
       "       [14940.347],\n",
       "       [14940.351],\n",
       "       [14940.35 ]], dtype=float32)"
      ]
     },
     "execution_count": 16,
     "metadata": {},
     "output_type": "execute_result"
    }
   ],
   "source": [
    "predictions"
   ]
  },
  {
   "cell_type": "code",
   "execution_count": 17,
   "id": "e9116b45",
   "metadata": {
    "ExecuteTime": {
     "end_time": "2023-11-13T21:35:16.965954Z",
     "start_time": "2023-11-13T21:35:16.959107Z"
    }
   },
   "outputs": [
    {
     "data": {
      "text/plain": [
       "array([[14296.25],\n",
       "       [14302.  ],\n",
       "       [14303.75],\n",
       "       ...,\n",
       "       [14756.  ],\n",
       "       [14755.75],\n",
       "       [14760.  ]], dtype=float32)"
      ]
     },
     "execution_count": 17,
     "metadata": {},
     "output_type": "execute_result"
    }
   ],
   "source": [
    "y_test"
   ]
  },
  {
   "cell_type": "code",
   "execution_count": 18,
   "id": "663285f6",
   "metadata": {
    "ExecuteTime": {
     "end_time": "2023-11-13T21:35:18.231654Z",
     "start_time": "2023-11-13T21:35:18.065106Z"
    }
   },
   "outputs": [
    {
     "data": {
      "image/png": "[encoded data removed]",
      "text/plain": [
       "<Figure size 432x288 with 1 Axes>"
      ]
     },
     "metadata": {
      "needs_background": "light"
     },
     "output_type": "display_data"
    }
   ],
   "source": [
    "plt.plot((predictions - y_test).reshape((-1,)), label='Predicted Prices')\n",
    "plt.legend()\n",
    "plt.show()"
   ]
  },
  {
   "cell_type": "code",
   "execution_count": 22,
   "id": "4c583b07",
   "metadata": {
    "ExecuteTime": {
     "end_time": "2023-11-13T21:36:08.817022Z",
     "start_time": "2023-11-13T21:36:08.617706Z"
    }
   },
   "outputs": [
    {
     "name": "stdout",
     "output_type": "stream",
     "text": [
      "Mean Squared Error on Test Data: 282789.2500\n"
     ]
    },
    {
     "data": {
      "image/png": "[encoded data removed]",
      "text/plain": [
       "<Figure size 432x288 with 1 Axes>"
      ]
     },
     "metadata": {
      "needs_background": "light"
     },
     "output_type": "display_data"
    }
   ],
   "source": [
    "# Calculate and print the Mean Squared Error\n",
    "mse = mean_squared_error(y_test, predictions)\n",
    "print(f'Mean Squared Error on Test Data: {mse:.4f}')\n",
    "\n",
    "# Plot the results\n",
    "# plt.plot(y_test.reshape((-1,)), label='True Prices')\n",
    "plt.plot(predictions.reshape((-1,)), label='Predicted Prices')\n",
    "plt.legend()\n",
    "plt.show()"
   ]
  },
  {
   "cell_type": "code",
   "execution_count": 20,
   "id": "3141deab",
   "metadata": {
    "ExecuteTime": {
     "end_time": "2023-11-13T21:35:22.155479Z",
     "start_time": "2023-11-13T21:35:21.985690Z"
    }
   },
   "outputs": [
    {
     "name": "stdout",
     "output_type": "stream",
     "text": [
      "Mean Squared Error on Test Data: 282789.2500\n"
     ]
    },
    {
     "data": {
      "image/png": "[encoded data removed]",
      "text/plain": [
       "<Figure size 432x288 with 1 Axes>"
      ]
     },
     "metadata": {
      "needs_background": "light"
     },
     "output_type": "display_data"
    }
   ],
   "source": [
    "# Calculate and print the Mean Squared Error\n",
    "mse = mean_squared_error(y_test, predictions)\n",
    "print(f'Mean Squared Error on Test Data: {mse:.4f}')\n",
    "\n",
    "# Plot the results\n",
    "plt.plot(y_test.reshape((-1,)), label='True Prices')\n",
    "# plt.plot(predictions.reshape((-1,)), label='Predicted Prices')\n",
    "plt.legend()\n",
    "plt.show()"
   ]
  },
  {
   "cell_type": "code",
   "execution_count": null,
   "id": "bf66983b",
   "metadata": {},
   "outputs": [],
   "source": []
  }
 ],
 "metadata": {
  "kernelspec": {
   "display_name": "py37",
   "language": "python",
   "name": "py37"
  },
  "language_info": {
   "codemirror_mode": {
    "name": "ipython",
    "version": 3
   },
   "file_extension": ".py",
   "mimetype": "text/x-python",
   "name": "python",
   "nbconvert_exporter": "python",
   "pygments_lexer": "ipython3",
   "version": "3.7.6"
  }
 },
 "nbformat": 4,
 "nbformat_minor": 5
}
